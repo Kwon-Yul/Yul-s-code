{
 "cells": [
  {
   "cell_type": "markdown",
   "id": "88d5a7db",
   "metadata": {},
   "source": [
    "## LAB 2-1\n"
   ]
  },
  {
   "cell_type": "code",
   "execution_count": 1,
   "id": "60b23216",
   "metadata": {},
   "outputs": [
    {
     "name": "stdout",
     "output_type": "stream",
     "text": [
      "나의 이름은 : 홍길동\n",
      "나의 나이는 : 27\n",
      "나의 키는 179 cm입니다.\n",
      "10+20= 30\n",
      "10*20= 200\n"
     ]
    }
   ],
   "source": [
    "print('나의 이름은 :', '홍길동')\n",
    "print('나의 나이는 :', 27)\n",
    "print('나의 키는', 179, 'cm입니다.')\n",
    "print('10+20=', 10+20)\n",
    "print('10*20=', 10*20)"
   ]
  },
  {
   "cell_type": "markdown",
   "id": "b4d9e3a4",
   "metadata": {},
   "source": [
    "## LAB 2-2"
   ]
  },
  {
   "cell_type": "code",
   "execution_count": 1,
   "id": "9d41209e",
   "metadata": {},
   "outputs": [
    {
     "name": "stdout",
     "output_type": "stream",
     "text": [
      "원의 반지름 : 8.0\n",
      "원의 면적 : 200.96\n",
      "원의 둘레 : 50.24\n"
     ]
    }
   ],
   "source": [
    "print('원의 반지름 :',8.0)\n",
    "print('원의 면적 :',3.14*8.0*8.0)\n",
    "print('원의 둘레 :', 2.0*3.14*8.0)"
   ]
  },
  {
   "cell_type": "markdown",
   "id": "2cbf0e00",
   "metadata": {},
   "source": [
    "## LAB 2-3"
   ]
  },
  {
   "cell_type": "markdown",
   "id": "a94e7a2b",
   "metadata": {},
   "source": [
    "* ### 1)"
   ]
  },
  {
   "cell_type": "code",
   "execution_count": 2,
   "id": "c0665350",
   "metadata": {},
   "outputs": [
    {
     "name": "stdout",
     "output_type": "stream",
     "text": [
      "원의 반지름 : 8.0\n",
      "원의 면적 : 200.96\n",
      "원의 둘레 : 50.24\n"
     ]
    }
   ],
   "source": [
    "radius=8.0\n",
    "print('원의 반지름 :',radius)\n",
    "print('원의 면적 :',3.14*radius*radius)\n",
    "print('원의 둘레 :',2.0*3.14*radius)"
   ]
  },
  {
   "cell_type": "markdown",
   "id": "264f4d1e",
   "metadata": {},
   "source": [
    "* ### 2)"
   ]
  },
  {
   "cell_type": "code",
   "execution_count": 3,
   "id": "78e10b12",
   "metadata": {},
   "outputs": [
    {
     "name": "stdout",
     "output_type": "stream",
     "text": [
      "원의 반지름 : 10.0\n",
      "원의 면적 : 314.0\n",
      "원의 둘레 : 62.800000000000004\n"
     ]
    }
   ],
   "source": [
    "radius=10.0\n",
    "print('원의 반지름 :',radius)\n",
    "print('원의 면적 :',3.14*radius*radius)\n",
    "print('원의 둘레 :',2.0*3.14*radius)"
   ]
  },
  {
   "cell_type": "markdown",
   "id": "21c9f65d",
   "metadata": {},
   "source": [
    "* ###  3)"
   ]
  },
  {
   "cell_type": "code",
   "execution_count": 2,
   "id": "28016ce2",
   "metadata": {},
   "outputs": [
    {
     "name": "stdout",
     "output_type": "stream",
     "text": [
      "너비 100, 높이 200인 사각형의 면적 : 20000\n"
     ]
    }
   ],
   "source": [
    "width=100\n",
    "height=200\n",
    "print('너비 100, 높이 200인 사각형의 면적 :', width*height)"
   ]
  },
  {
   "cell_type": "markdown",
   "id": "c8cf4387",
   "metadata": {},
   "source": [
    "## LAB 2-4"
   ]
  },
  {
   "cell_type": "code",
   "execution_count": 4,
   "id": "3e566a09",
   "metadata": {},
   "outputs": [
    {
     "name": "stdout",
     "output_type": "stream",
     "text": [
      "나의 이름은 : 전우치\n",
      "나의 나이는 : 27\n",
      "나의 키는 179 cm입니다.\n",
      "10+20= 30\n",
      "10*20= 200\n"
     ]
    }
   ],
   "source": [
    "name='전우치'\n",
    "print('나의 이름은 :',name)\n",
    "age=27\n",
    "print('나의 나이는 :', age)\n",
    "height=179\n",
    "print('나의 키는', height, 'cm입니다.')\n",
    "sum=10+20\n",
    "print('10+20=',sum)\n",
    "mult=10*20\n",
    "print('10*20=',mult)\n"
   ]
  },
  {
   "cell_type": "markdown",
   "id": "3aee4f7b",
   "metadata": {},
   "source": [
    "## LAB 2-5"
   ]
  },
  {
   "cell_type": "markdown",
   "id": "3232d878",
   "metadata": {},
   "source": [
    "* ### 1)"
   ]
  },
  {
   "cell_type": "code",
   "execution_count": 4,
   "id": "f757593d",
   "metadata": {},
   "outputs": [
    {
     "ename": "SyntaxError",
     "evalue": "invalid syntax (4164876337.py, line 2)",
     "output_type": "error",
     "traceback": [
      "\u001b[1;36m  Input \u001b[1;32mIn [4]\u001b[1;36m\u001b[0m\n\u001b[1;33m    global=300\u001b[0m\n\u001b[1;37m          ^\u001b[0m\n\u001b[1;31mSyntaxError\u001b[0m\u001b[1;31m:\u001b[0m invalid syntax\n"
     ]
    }
   ],
   "source": [
    "global=300\n",
    "print(global)"
   ]
  },
  {
   "cell_type": "markdown",
   "id": "bbd49982",
   "metadata": {},
   "source": [
    "* 위 global이라는 단어는 파이썬의 키워드이므로 다른 식별자를 사용하여야 한다. 다음은 global을 n으로 수정하여 코드를 짠 결과이다."
   ]
  },
  {
   "cell_type": "code",
   "execution_count": 5,
   "id": "c01839a6",
   "metadata": {},
   "outputs": [
    {
     "name": "stdout",
     "output_type": "stream",
     "text": [
      "300\n"
     ]
    }
   ],
   "source": [
    "n=300\n",
    "print(n)"
   ]
  },
  {
   "cell_type": "markdown",
   "id": "1159031b",
   "metadata": {},
   "source": [
    "* ### 2)"
   ]
  },
  {
   "cell_type": "code",
   "execution_count": 6,
   "id": "de7d1c24",
   "metadata": {},
   "outputs": [
    {
     "ename": "NameError",
     "evalue": "name 'Height' is not defined",
     "output_type": "error",
     "traceback": [
      "\u001b[1;31m---------------------------------------------------------------------------\u001b[0m",
      "\u001b[1;31mNameError\u001b[0m                                 Traceback (most recent call last)",
      "Input \u001b[1;32mIn [6]\u001b[0m, in \u001b[0;36m<cell line: 4>\u001b[1;34m()\u001b[0m\n\u001b[0;32m      2\u001b[0m width\u001b[38;5;241m=\u001b[39m\u001b[38;5;241m20\u001b[39m\n\u001b[0;32m      3\u001b[0m height\u001b[38;5;241m=\u001b[39m\u001b[38;5;241m40\u001b[39m\n\u001b[1;32m----> 4\u001b[0m area\u001b[38;5;241m=\u001b[39m(width\u001b[38;5;241m*\u001b[39m\u001b[43mHeight\u001b[49m)\n\u001b[0;32m      5\u001b[0m \u001b[38;5;28mprint\u001b[39m(\u001b[38;5;124m'\u001b[39m\u001b[38;5;124m사각형의 면적\u001b[39m\u001b[38;5;124m'\u001b[39m, area)\n",
      "\u001b[1;31mNameError\u001b[0m: name 'Height' is not defined"
     ]
    }
   ],
   "source": [
    "width=20\n",
    "height=40\n",
    "area=(width*Height)\n",
    "print('사각형의 면적', area)"
   ]
  },
  {
   "cell_type": "markdown",
   "id": "12c89f35",
   "metadata": {},
   "source": [
    "* height 가 아닌 Height로 썼기 때문에, 에러가 났다. 대문자 소문자 구분하여 똑같이 써야 한다."
   ]
  },
  {
   "cell_type": "markdown",
   "id": "63e44357",
   "metadata": {},
   "source": []
  },
  {
   "cell_type": "code",
   "execution_count": 7,
   "id": "bf8c2519",
   "metadata": {},
   "outputs": [
    {
     "name": "stdout",
     "output_type": "stream",
     "text": [
      "사각형의 면적 800\n"
     ]
    }
   ],
   "source": [
    "width=20\n",
    "height=40\n",
    "area=(width*height)\n",
    "print('사각형의 면적', area)"
   ]
  },
  {
   "cell_type": "markdown",
   "id": "bdc1b53d",
   "metadata": {},
   "source": [
    "* ### 3)"
   ]
  },
  {
   "cell_type": "code",
   "execution_count": 8,
   "id": "b435c9d9",
   "metadata": {},
   "outputs": [
    {
     "name": "stdout",
     "output_type": "stream",
     "text": [
      "나의 나이는 20 세 입니다.\n"
     ]
    }
   ],
   "source": [
    "iixxjjkk=20\n",
    "print('나의 나이는', iixxjjkk, '세 입니다.')"
   ]
  },
  {
   "cell_type": "markdown",
   "id": "db2693d4",
   "metadata": {},
   "source": [
    "1. 위 코드는 에러를 출력하지는 않는다\n",
    "2. 하지만, 위 코드에서 iixxjjkk라는 식별자를 사용할 때, 다른사람이나 자신이 나중에 수정하거나 코드를 확인할 때\n",
    "   정확하게 무엇을 뜻하는지 알기 어려울 수 있다. 따라서 age와 같은 식별자를 사용하는 것이 좋다."
   ]
  },
  {
   "cell_type": "markdown",
   "id": "85c45895",
   "metadata": {},
   "source": [
    "* ### 4)"
   ]
  },
  {
   "cell_type": "code",
   "execution_count": 10,
   "id": "a579d388",
   "metadata": {},
   "outputs": [
    {
     "name": "stdout",
     "output_type": "stream",
     "text": [
      "3\n"
     ]
    }
   ],
   "source": [
    "v1=1\n",
    "v2=2\n",
    "thisisaverylongvariablename=v1+v2\n",
    "print(thisisaverylongvariablename)"
   ]
  },
  {
   "cell_type": "markdown",
   "id": "841195fe",
   "metadata": {},
   "source": [
    "1. 위 코드는 에러를 출력하지는 않는다.\n",
    "2. 하지만, 너무 길고 복잡한 식별자는 알아보기 힘드므로 짧은 식별자를 이용하는 것이 좋다."
   ]
  },
  {
   "cell_type": "markdown",
   "id": "620158a2",
   "metadata": {},
   "source": [
    "* ### 5)"
   ]
  },
  {
   "cell_type": "code",
   "execution_count": 11,
   "id": "736f05dd",
   "metadata": {},
   "outputs": [
    {
     "name": "stdout",
     "output_type": "stream",
     "text": [
      "삼각형의 면적은  100.0\n"
     ]
    }
   ],
   "source": [
    "radius=20\n",
    "depth=10\n",
    "final_length=0.5*radius*depth\n",
    "print('삼각형의 면적은 ',final_length)"
   ]
  },
  {
   "cell_type": "markdown",
   "id": "4a65182f",
   "metadata": {},
   "source": [
    "1. 이 코드는 에러를 출력하지는 않는다.\n",
    "2. 하지만 위 코드에서 삼각형의 면적을 구하는 작업을 하였기 때문에, 식별자를 radius나 depth가 아닌\n",
    "   일반적으로 삼각형의 높이와 밑변의 길이를 나타내는 height와 length 등으로 표현하는 것이 좋다."
   ]
  },
  {
   "cell_type": "markdown",
   "id": "e98d5962",
   "metadata": {},
   "source": [
    "* ### 6)"
   ]
  },
  {
   "cell_type": "code",
   "execution_count": 12,
   "id": "d3a5ef64",
   "metadata": {},
   "outputs": [
    {
     "ename": "SyntaxError",
     "evalue": "invalid syntax (4280372764.py, line 1)",
     "output_type": "error",
     "traceback": [
      "\u001b[1;36m  Input \u001b[1;32mIn [12]\u001b[1;36m\u001b[0m\n\u001b[1;33m    1st_year = 30\u001b[0m\n\u001b[1;37m     ^\u001b[0m\n\u001b[1;31mSyntaxError\u001b[0m\u001b[1;31m:\u001b[0m invalid syntax\n"
     ]
    }
   ],
   "source": [
    "1st_year = 30\n",
    "2nd_year = 30\n",
    "3rd_year = 16\n",
    "all_years+=1st_year+2nd_year+3rd_year\n",
    "print(all_years)"
   ]
  },
  {
   "cell_type": "markdown",
   "id": "6ce64468",
   "metadata": {},
   "source": [
    "1. 위 코드는 에러를 출력한다.\n",
    "2. 첫 글자는 반드시 문자나 밑줄 문자로 시작하여야 하기 때문에 식별자 이름 규칙에 어긋난다."
   ]
  },
  {
   "cell_type": "markdown",
   "id": "c25b3636",
   "metadata": {},
   "source": [
    "## LAB 2-6"
   ]
  },
  {
   "cell_type": "code",
   "execution_count": 13,
   "id": "45a89699",
   "metadata": {},
   "outputs": [
    {
     "name": "stdout",
     "output_type": "stream",
     "text": [
      "사각형의 면적 1200\n"
     ]
    }
   ],
   "source": [
    "width=20\n",
    "height=40\n",
    "width=30\n",
    "area=width*height\n",
    "print('사각형의 면적',area)\n"
   ]
  },
  {
   "cell_type": "markdown",
   "id": "d813e396",
   "metadata": {},
   "source": [
    "## LAB 2-7"
   ]
  },
  {
   "cell_type": "markdown",
   "id": "6d344f01",
   "metadata": {},
   "source": [
    "* ### 1)"
   ]
  },
  {
   "cell_type": "code",
   "execution_count": 64,
   "id": "dbe1d8af",
   "metadata": {},
   "outputs": [
    {
     "data": {
      "text/plain": [
       "56088"
      ]
     },
     "execution_count": 64,
     "metadata": {},
     "output_type": "execute_result"
    }
   ],
   "source": [
    "123*456"
   ]
  },
  {
   "cell_type": "code",
   "execution_count": 65,
   "id": "66b4a1ad",
   "metadata": {},
   "outputs": [
    {
     "data": {
      "text/plain": [
       "3825"
      ]
     },
     "execution_count": 65,
     "metadata": {},
     "output_type": "execute_result"
    }
   ],
   "source": [
    "1357+2468"
   ]
  },
  {
   "cell_type": "code",
   "execution_count": 66,
   "id": "505775db",
   "metadata": {},
   "outputs": [
    {
     "data": {
      "text/plain": [
       "625"
      ]
     },
     "execution_count": 66,
     "metadata": {},
     "output_type": "execute_result"
    }
   ],
   "source": [
    "5**4"
   ]
  },
  {
   "cell_type": "code",
   "execution_count": 67,
   "id": "d2121084",
   "metadata": {},
   "outputs": [
    {
     "data": {
      "text/plain": [
       "2.5"
      ]
     },
     "execution_count": 67,
     "metadata": {},
     "output_type": "execute_result"
    }
   ],
   "source": [
    "10/4"
   ]
  },
  {
   "cell_type": "code",
   "execution_count": 68,
   "id": "c51efc17",
   "metadata": {},
   "outputs": [
    {
     "data": {
      "text/plain": [
       "2"
      ]
     },
     "execution_count": 68,
     "metadata": {},
     "output_type": "execute_result"
    }
   ],
   "source": [
    "10//5"
   ]
  },
  {
   "cell_type": "code",
   "execution_count": 69,
   "id": "109dea2e",
   "metadata": {},
   "outputs": [
    {
     "data": {
      "text/plain": [
       "0"
      ]
     },
     "execution_count": 69,
     "metadata": {},
     "output_type": "execute_result"
    }
   ],
   "source": [
    "10&5"
   ]
  },
  {
   "cell_type": "markdown",
   "id": "75a42cb6",
   "metadata": {},
   "source": [
    "* ### 2)"
   ]
  },
  {
   "cell_type": "code",
   "execution_count": 21,
   "id": "22e6c35a",
   "metadata": {},
   "outputs": [
    {
     "data": {
      "text/plain": [
       "1"
      ]
     },
     "execution_count": 21,
     "metadata": {},
     "output_type": "execute_result"
    }
   ],
   "source": [
    "5%2"
   ]
  },
  {
   "cell_type": "markdown",
   "id": "8296c4a0",
   "metadata": {},
   "source": [
    "* ### 3)"
   ]
  },
  {
   "cell_type": "code",
   "execution_count": null,
   "id": "0fd14b03",
   "metadata": {},
   "outputs": [],
   "source": [
    "print('2의 제곱근=',2**0.5)\n",
    "print('3의 제곱근=',3**0.5)"
   ]
  },
  {
   "cell_type": "markdown",
   "id": "584efa22",
   "metadata": {},
   "source": [
    "## LAB 2-8"
   ]
  },
  {
   "cell_type": "code",
   "execution_count": 23,
   "id": "cea9831c",
   "metadata": {},
   "outputs": [
    {
     "data": {
      "text/plain": [
       "(12+5j)"
      ]
     },
     "execution_count": 23,
     "metadata": {},
     "output_type": "execute_result"
    }
   ],
   "source": [
    "a=8+2j\n",
    "b=4+3j\n",
    "a+b"
   ]
  },
  {
   "cell_type": "code",
   "execution_count": 24,
   "id": "bd2ef700",
   "metadata": {},
   "outputs": [
    {
     "data": {
      "text/plain": [
       "(4-1j)"
      ]
     },
     "execution_count": 24,
     "metadata": {},
     "output_type": "execute_result"
    }
   ],
   "source": [
    "a-b"
   ]
  },
  {
   "cell_type": "code",
   "execution_count": 25,
   "id": "08bba136",
   "metadata": {},
   "outputs": [
    {
     "data": {
      "text/plain": [
       "(26+32j)"
      ]
     },
     "execution_count": 25,
     "metadata": {},
     "output_type": "execute_result"
    }
   ],
   "source": [
    "a*b"
   ]
  },
  {
   "cell_type": "code",
   "execution_count": 26,
   "id": "b8796562",
   "metadata": {},
   "outputs": [
    {
     "data": {
      "text/plain": [
       "(1.52-0.64j)"
      ]
     },
     "execution_count": 26,
     "metadata": {},
     "output_type": "execute_result"
    }
   ],
   "source": [
    "a/b"
   ]
  },
  {
   "cell_type": "markdown",
   "id": "1f0704db",
   "metadata": {},
   "source": [
    "## LAB 2-9"
   ]
  },
  {
   "cell_type": "code",
   "execution_count": 48,
   "id": "fa21b84a",
   "metadata": {},
   "outputs": [
    {
     "data": {
      "text/plain": [
       "512"
      ]
     },
     "execution_count": 48,
     "metadata": {},
     "output_type": "execute_result"
    }
   ],
   "source": [
    "a=1024\n",
    "a>>1"
   ]
  },
  {
   "cell_type": "code",
   "execution_count": 49,
   "id": "d236d1ea",
   "metadata": {
    "scrolled": true
   },
   "outputs": [
    {
     "data": {
      "text/plain": [
       "256"
      ]
     },
     "execution_count": 49,
     "metadata": {},
     "output_type": "execute_result"
    }
   ],
   "source": [
    "a>>2"
   ]
  },
  {
   "cell_type": "code",
   "execution_count": 50,
   "id": "89158e6a",
   "metadata": {},
   "outputs": [
    {
     "data": {
      "text/plain": [
       "512"
      ]
     },
     "execution_count": 50,
     "metadata": {},
     "output_type": "execute_result"
    }
   ],
   "source": [
    "a=a>>1\n",
    "a"
   ]
  },
  {
   "cell_type": "code",
   "execution_count": 51,
   "id": "2a2c56c5",
   "metadata": {},
   "outputs": [
    {
     "data": {
      "text/plain": [
       "256"
      ]
     },
     "execution_count": 51,
     "metadata": {},
     "output_type": "execute_result"
    }
   ],
   "source": [
    "a=a>>1\n",
    "a"
   ]
  },
  {
   "cell_type": "code",
   "execution_count": 58,
   "id": "5ecccd81",
   "metadata": {},
   "outputs": [
    {
     "data": {
      "text/plain": [
       "2"
      ]
     },
     "execution_count": 58,
     "metadata": {},
     "output_type": "execute_result"
    }
   ],
   "source": [
    "a=1\n",
    "a<<1"
   ]
  },
  {
   "cell_type": "code",
   "execution_count": 59,
   "id": "831ca978",
   "metadata": {},
   "outputs": [
    {
     "data": {
      "text/plain": [
       "2"
      ]
     },
     "execution_count": 59,
     "metadata": {},
     "output_type": "execute_result"
    }
   ],
   "source": [
    "a=a<<1\n",
    "a"
   ]
  },
  {
   "cell_type": "code",
   "execution_count": 60,
   "id": "ef5a593d",
   "metadata": {},
   "outputs": [
    {
     "data": {
      "text/plain": [
       "4"
      ]
     },
     "execution_count": 60,
     "metadata": {},
     "output_type": "execute_result"
    }
   ],
   "source": [
    "a=a<<1\n",
    "a"
   ]
  },
  {
   "cell_type": "code",
   "execution_count": 61,
   "id": "9e9b7d8b",
   "metadata": {},
   "outputs": [
    {
     "data": {
      "text/plain": [
       "8"
      ]
     },
     "execution_count": 61,
     "metadata": {},
     "output_type": "execute_result"
    }
   ],
   "source": [
    "a=a<<1\n",
    "a"
   ]
  },
  {
   "cell_type": "code",
   "execution_count": 62,
   "id": "4e08e675",
   "metadata": {},
   "outputs": [
    {
     "data": {
      "text/plain": [
       "16"
      ]
     },
     "execution_count": 62,
     "metadata": {},
     "output_type": "execute_result"
    }
   ],
   "source": [
    "a=a<<1\n",
    "a"
   ]
  },
  {
   "cell_type": "markdown",
   "id": "bb9f1598",
   "metadata": {},
   "source": [
    "## LAB 2-10"
   ]
  },
  {
   "cell_type": "markdown",
   "id": "1c497201",
   "metadata": {},
   "source": [
    "* ### 1)"
   ]
  },
  {
   "cell_type": "code",
   "execution_count": 5,
   "id": "09fcf01d",
   "metadata": {},
   "outputs": [
    {
     "name": "stdout",
     "output_type": "stream",
     "text": [
      "이름을 입력하세요:김유신\n",
      "김유신 님이 입장하셨습니다.\n"
     ]
    }
   ],
   "source": [
    "name=input('이름을 입력하세요:')\n",
    "print(name, '님이 입장하셨습니다.')"
   ]
  },
  {
   "cell_type": "markdown",
   "id": "c2309630",
   "metadata": {},
   "source": [
    "* ### 2)"
   ]
  },
  {
   "cell_type": "code",
   "execution_count": 6,
   "id": "98ab853d",
   "metadata": {},
   "outputs": [
    {
     "name": "stdout",
     "output_type": "stream",
     "text": [
      "숫자 m을 입력하세요 :30\n",
      "숫자 n을 입력하세요 :50\n",
      "m+n= 80\n",
      "m-n= -20\n"
     ]
    }
   ],
   "source": [
    "m=int(input('숫자 m을 입력하세요 :'))\n",
    "n=int(input('숫자 n을 입력하세요 :'))\n",
    "print('m+n=',m+n)\n",
    "print('m-n=',m-n)"
   ]
  },
  {
   "cell_type": "markdown",
   "id": "c6ab698f",
   "metadata": {},
   "source": [
    "* ### 3) 편의상 반지름을 3으로 설정하였습니다."
   ]
  },
  {
   "cell_type": "code",
   "execution_count": 7,
   "id": "65426d9a",
   "metadata": {},
   "outputs": [
    {
     "name": "stdout",
     "output_type": "stream",
     "text": [
      "원의 반지름을 입력하세요 :3\n",
      "28.259999999999998\n"
     ]
    }
   ],
   "source": [
    "radius=int(input('원의 반지름을 입력하세요 :'))\n",
    "print(3.14*radius*radius)"
   ]
  },
  {
   "cell_type": "code",
   "execution_count": null,
   "id": "cf4987c2",
   "metadata": {},
   "outputs": [],
   "source": []
  }
 ],
 "metadata": {
  "kernelspec": {
   "display_name": "Python 3 (ipykernel)",
   "language": "python",
   "name": "python3"
  },
  "language_info": {
   "codemirror_mode": {
    "name": "ipython",
    "version": 3
   },
   "file_extension": ".py",
   "mimetype": "text/x-python",
   "name": "python",
   "nbconvert_exporter": "python",
   "pygments_lexer": "ipython3",
   "version": "3.9.12"
  }
 },
 "nbformat": 4,
 "nbformat_minor": 5
}
