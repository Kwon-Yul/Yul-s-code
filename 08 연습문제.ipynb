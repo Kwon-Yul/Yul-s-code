{
 "cells": [
  {
   "cell_type": "markdown",
   "id": "93be26bb",
   "metadata": {},
   "source": [
    "# 08주차 연습문제\n",
    "### 01"
   ]
  },
  {
   "cell_type": "code",
   "execution_count": 1,
   "id": "afca7037",
   "metadata": {},
   "outputs": [
    {
     "name": "stdout",
     "output_type": "stream",
     "text": [
      "error: [Errno 13] Permission denied: 'greet.txt'\n"
     ]
    }
   ],
   "source": [
    "try:\n",
    "    greet = open('greet.txt','w')\n",
    "    greet.write('Hi, everyone.\\nWelcome to python')\n",
    "    greet.close()\n",
    "except Exception as e:\n",
    "    print('error:',e)\n"
   ]
  },
  {
   "cell_type": "markdown",
   "id": "8b9545be",
   "metadata": {},
   "source": [
    "### 02"
   ]
  },
  {
   "cell_type": "code",
   "execution_count": null,
   "id": "81a6a549",
   "metadata": {},
   "outputs": [],
   "source": [
    "numfile = open('numbers1to10.txt','w')\n",
    "numfile.write('1\\n2\\n3\\n4\\n5\\n6\\n7\\n8\\n9\\n10')\n",
    "numfile.close()"
   ]
  }
 ],
 "metadata": {
  "kernelspec": {
   "display_name": "Python 3 (ipykernel)",
   "language": "python",
   "name": "python3"
  },
  "language_info": {
   "codemirror_mode": {
    "name": "ipython",
    "version": 3
   },
   "file_extension": ".py",
   "mimetype": "text/x-python",
   "name": "python",
   "nbconvert_exporter": "python",
   "pygments_lexer": "ipython3",
   "version": "3.9.12"
  }
 },
 "nbformat": 4,
 "nbformat_minor": 5
}
