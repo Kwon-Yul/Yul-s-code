{
 "cells": [
  {
   "attachments": {},
   "cell_type": "markdown",
   "id": "f7858258",
   "metadata": {},
   "source": [
    "### 1.  \n",
    "섭씨온도(Celsius)를 화씨온도(Fahrenheit)로 변환하는 식은 아래와 같다.  \n",
    "Fahrenheit = (9/5) * Celsius + 32  \n",
    "이 식을 바탕으로 섭씨온도를 0도에서 50도까지 5도 단위로 증가시키면서 이에 해당하는 화씨온도를 계산하여,  \n",
    "섭씨온도와 화씨온도의 값을 보여주는 프로그램을 작성하시오. "
   ]
  },
  {
   "cell_type": "code",
   "execution_count": 9,
   "id": "4fe9cfcb",
   "metadata": {},
   "outputs": [
    {
     "name": "stdout",
     "output_type": "stream",
     "text": [
      "섭씨 0도는 화씨 32.0도이다.\n",
      "섭씨 5도는 화씨 41.0도이다.\n",
      "섭씨 10도는 화씨 50.0도이다.\n",
      "섭씨 15도는 화씨 59.0도이다.\n",
      "섭씨 20도는 화씨 68.0도이다.\n",
      "섭씨 25도는 화씨 77.0도이다.\n",
      "섭씨 30도는 화씨 86.0도이다.\n",
      "섭씨 35도는 화씨 95.0도이다.\n",
      "섭씨 40도는 화씨 104.0도이다.\n",
      "섭씨 45도는 화씨 113.0도이다.\n",
      "섭씨 50도는 화씨 122.0도이다.\n"
     ]
    }
   ],
   "source": [
    "f=0\n",
    "for i in range(0,55,5):\n",
    "    f=i\n",
    "    i=(9/5)*i+32\n",
    "    print('섭씨 {}도는 화씨 {}도이다.'.format(f,i))"
   ]
  },
  {
   "cell_type": "markdown",
   "id": "f12f70e7",
   "metadata": {},
   "source": [
    "### 2.  \n",
    "아래의 실행 결과를 적으세요.  \n",
    "```python  \n",
    "a=2*2//2\n",
    "b=3//2*3\n",
    "print(a,b)  \n",
    "```"
   ]
  },
  {
   "cell_type": "code",
   "execution_count": 10,
   "id": "f0fa2e58",
   "metadata": {},
   "outputs": [
    {
     "name": "stdout",
     "output_type": "stream",
     "text": [
      "2 3\n"
     ]
    }
   ],
   "source": [
    "a=2*2//2\n",
    "b=3//2*3\n",
    "print(a,b)  "
   ]
  },
  {
   "attachments": {},
   "cell_type": "markdown",
   "id": "c17dbdbc",
   "metadata": {},
   "source": [
    "### 3.  \n",
    "10 미만의 자연수에서 3과 5의 배수를 구하면 3, 5, 6, 9이다. 이들의 총합은 23이다.  \n",
    "1000 미만의 자연수에서 3의 배수와 5의 배수의 총합을 구하시오."
   ]
  },
  {
   "cell_type": "code",
   "execution_count": null,
   "id": "d56d1b98",
   "metadata": {},
   "outputs": [],
   "source": []
  }
 ],
 "metadata": {
  "kernelspec": {
   "display_name": "Python 3 (ipykernel)",
   "language": "python",
   "name": "python3"
  },
  "language_info": {
   "codemirror_mode": {
    "name": "ipython",
    "version": 3
   },
   "file_extension": ".py",
   "mimetype": "text/x-python",
   "name": "python",
   "nbconvert_exporter": "python",
   "pygments_lexer": "ipython3",
   "version": "3.9.12"
  }
 },
 "nbformat": 4,
 "nbformat_minor": 5
}
