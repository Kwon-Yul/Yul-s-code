{
 "cells": [
  {
   "cell_type": "markdown",
   "id": "ee498911",
   "metadata": {},
   "source": [
    "## 예제 1번"
   ]
  },
  {
   "cell_type": "code",
   "execution_count": 3,
   "id": "e5e1ff7c",
   "metadata": {},
   "outputs": [
    {
     "name": "stdout",
     "output_type": "stream",
     "text": [
      "세 정수를 입력하시오 :9 12 4\n",
      "4 9 12\n"
     ]
    }
   ],
   "source": [
    "a,b,c = map(int, input('세 정수를 입력하시오 :').split())\n",
    "if b<a and b<c:\n",
    "    a,b=b,a\n",
    "if c<b and c<a:\n",
    "    a,c=c,a\n",
    "if c<b:\n",
    "    b,c=c,b\n",
    "print(a,b,c)"
   ]
  },
  {
   "cell_type": "code",
   "execution_count": 4,
   "id": "34c9a78f",
   "metadata": {},
   "outputs": [
    {
     "name": "stdout",
     "output_type": "stream",
     "text": [
      "세 정수를 입력하시오 :99 12 4\n",
      "4 12 99\n"
     ]
    }
   ],
   "source": [
    "a,b,c = map(int, input('세 정수를 입력하시오 :').split())\n",
    "if b<a and b<c:\n",
    "    a,b=b,a\n",
    "if c<b and c<a:\n",
    "    a,c=c,a\n",
    "if c<b:\n",
    "    b,c=c,b\n",
    "print(a,b,c)"
   ]
  },
  {
   "cell_type": "code",
   "execution_count": null,
   "id": "80e825ce",
   "metadata": {},
   "outputs": [],
   "source": []
  }
 ],
 "metadata": {
  "kernelspec": {
   "display_name": "Python 3 (ipykernel)",
   "language": "python",
   "name": "python3"
  },
  "language_info": {
   "codemirror_mode": {
    "name": "ipython",
    "version": 3
   },
   "file_extension": ".py",
   "mimetype": "text/x-python",
   "name": "python",
   "nbconvert_exporter": "python",
   "pygments_lexer": "ipython3",
   "version": "3.9.12"
  }
 },
 "nbformat": 4,
 "nbformat_minor": 5
}
