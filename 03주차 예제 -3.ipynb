{
 "cells": [
  {
   "cell_type": "markdown",
   "id": "e6332794",
   "metadata": {},
   "source": [
    "# 예제 3"
   ]
  },
  {
   "cell_type": "code",
   "execution_count": 2,
   "id": "cd29155f",
   "metadata": {},
   "outputs": [
    {
     "name": "stdout",
     "output_type": "stream",
     "text": [
      "게임 점수를 입력하시오 :4\n",
      "입문자입니다.\n"
     ]
    }
   ],
   "source": [
    "n=int(input('게임 점수를 입력하시오 :'))\n",
    "if n>=1000:\n",
    "            print('고수입니다')\n",
    "else:\n",
    "            print('입문자입니다.')"
   ]
  },
  {
   "cell_type": "code",
   "execution_count": 3,
   "id": "e6501bef",
   "metadata": {},
   "outputs": [
    {
     "name": "stdout",
     "output_type": "stream",
     "text": [
      "게임 점수를 입력하시오 :4222\n",
      "고수입니다\n"
     ]
    }
   ],
   "source": [
    "n=int(input('게임 점수를 입력하시오 :'))\n",
    "if n>=1000:\n",
    "            print('고수입니다')\n",
    "else:\n",
    "            print('입문자입니다.')"
   ]
  },
  {
   "cell_type": "code",
   "execution_count": null,
   "id": "c3fec1f4",
   "metadata": {},
   "outputs": [],
   "source": []
  }
 ],
 "metadata": {
  "kernelspec": {
   "display_name": "Python 3 (ipykernel)",
   "language": "python",
   "name": "python3"
  },
  "language_info": {
   "codemirror_mode": {
    "name": "ipython",
    "version": 3
   },
   "file_extension": ".py",
   "mimetype": "text/x-python",
   "name": "python",
   "nbconvert_exporter": "python",
   "pygments_lexer": "ipython3",
   "version": "3.9.12"
  }
 },
 "nbformat": 4,
 "nbformat_minor": 5
}
