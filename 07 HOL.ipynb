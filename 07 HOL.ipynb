{
 "cells": [
  {
   "cell_type": "markdown",
   "id": "e42f9788",
   "metadata": {},
   "source": [
    "### LAB 7-1"
   ]
  },
  {
   "cell_type": "code",
   "execution_count": 20,
   "id": "e1de91a1",
   "metadata": {},
   "outputs": [
    {
     "name": "stdout",
     "output_type": "stream",
     "text": [
      "오늘의 날짜 : 2022년 10월 13일\n",
      "현재시간 : 오후 2시 43분 41초\n"
     ]
    }
   ],
   "source": [
    "import datetime as dt\n",
    "today = dt.date.today()\n",
    "time = dt.datetime.now()\n",
    "print('오늘의 날짜 : {}년 {}월 {}일'.format(today.year,today.month,today.day))\n",
    "if time.hour > 12:\n",
    "    print('현재시간 : 오후 {}시 {}분 {}초'.format(time.hour-12,time.minute,time.second))\n",
    "else:\n",
    "    print('현재시간 : 오전 {}시 {}분 {}초'.format(time.hour,time.minute,time.second))\n",
    "    \n",
    "\n"
   ]
  },
  {
   "cell_type": "markdown",
   "id": "105a53a9",
   "metadata": {},
   "source": [
    "### LAB 7-2"
   ]
  },
  {
   "cell_type": "markdown",
   "id": "7e091600",
   "metadata": {},
   "source": [
    "1. 2025년 크리스마스까지의 남은 날짜와 시간을 구해서 출력하기"
   ]
  },
  {
   "cell_type": "code",
   "execution_count": 28,
   "id": "e57419ae",
   "metadata": {},
   "outputs": [
    {
     "name": "stdout",
     "output_type": "stream",
     "text": [
      "오늘은 2022년 10월 13일입니다.\n",
      "2025년 크리스마스 까지는 1168일 9시간 남았습니다.\n"
     ]
    }
   ],
   "source": [
    "import datetime as dt\n",
    "today = dt.date.today()\n",
    "time = dt.datetime.now()\n",
    "xMas = dt.datetime(2025,12,25)\n",
    "time_gap = xMas - time\n",
    "print('오늘은 {}년 {}월 {}일입니다.'.format(today.year,today.month,today.day))\n",
    "print('2025년 크리스마스 까지는 {}일 {}시간 남았습니다.'.format(time_gap.days,time_gap.seconds//3600))"
   ]
  },
  {
   "cell_type": "markdown",
   "id": "3e28b487",
   "metadata": {},
   "source": [
    "2. 2036년 1월 1일까지의 남으 날짜와 시간을 구해서 출력해 보자."
   ]
  },
  {
   "cell_type": "code",
   "execution_count": 29,
   "id": "92fa9290",
   "metadata": {},
   "outputs": [
    {
     "name": "stdout",
     "output_type": "stream",
     "text": [
      "오늘은 2022년 10월 13일입니다.\n",
      "2036년 새해 까지는 4827일 9시간 남았습니다.\n"
     ]
    }
   ],
   "source": [
    "import datetime as dt\n",
    "today = dt.date.today()\n",
    "time = dt.datetime.now()\n",
    "NewY = dt.datetime(2036,1,1)\n",
    "time_gap = NewY - time\n",
    "print('오늘은 {}년 {}월 {}일입니다.'.format(today.year,today.month,today.day))\n",
    "print('2036년 새해 까지는 {}일 {}시간 남았습니다.'.format(time_gap.days,time_gap.seconds//3600))"
   ]
  },
  {
   "cell_type": "markdown",
   "id": "67a59bc4",
   "metadata": {},
   "source": [
    "3. 다가오는 내 생일까지의 날짜와 시간 계산"
   ]
  },
  {
   "cell_type": "code",
   "execution_count": 43,
   "id": "80685f3a",
   "metadata": {},
   "outputs": [
    {
     "name": "stdout",
     "output_type": "stream",
     "text": [
      "오늘은 2022년 10월 13일입니다.\n",
      "2023년 권율의 생일까지는 197일 8시간 남았습니다.\n"
     ]
    }
   ],
   "source": [
    "import datetime as dt\n",
    "today = dt.date.today()\n",
    "time = dt.datetime.now()\n",
    "BT = dt.datetime(2023,4,29)\n",
    "time_gap = BT - time\n",
    "print('오늘은 {}년 {}월 {}일입니다.'.format(today.year,today.month,today.day))\n",
    "print('2023년 권율의 생일까지는 {}일 {}시간 남았습니다.'.format(time_gap.days,time_gap.seconds//3600))"
   ]
  },
  {
   "cell_type": "markdown",
   "id": "73369f14",
   "metadata": {},
   "source": [
    "### LAB 7-3"
   ]
  },
  {
   "cell_type": "markdown",
   "id": "2a82edb1",
   "metadata": {},
   "source": [
    "1. timedelta 클래스를 이용하여 1000일 후의 날짜를 구하기"
   ]
  },
  {
   "cell_type": "code",
   "execution_count": 42,
   "id": "2e5747c0",
   "metadata": {},
   "outputs": [
    {
     "name": "stdout",
     "output_type": "stream",
     "text": [
      "오늘 날짜 :2022년 10월 13일\n",
      "1000일 후의 날짜 : 2025년 7월 9일\n"
     ]
    }
   ],
   "source": [
    "import datetime as dt\n",
    "today = dt.date.today()\n",
    "Dday1000 = dt.timedelta(days=1000)\n",
    "Dday = dt.datetime.now()+Dday1000\n",
    "print('오늘 날짜 :{}년 {}월 {}일'.format(today.year,today.month,today.day))\n",
    "print('1000일 후의 날짜 : {}년 {}월 {}일'.format(Dday.year,Dday.month,Dday.day))"
   ]
  },
  {
   "cell_type": "markdown",
   "id": "29510337",
   "metadata": {},
   "source": [
    "2. 처음 사귄 연도와 월, 일을 띄어쓰기로 입력하면 100일 기념일을 출력하는 기능을 만들기"
   ]
  },
  {
   "cell_type": "code",
   "execution_count": 58,
   "id": "c38cd6de",
   "metadata": {},
   "outputs": [
    {
     "name": "stdout",
     "output_type": "stream",
     "text": [
      "처음으로 사귄 연도와 월, 일을 입력하시오 :2022 10 13\n",
      "100일 기념일은 : 2023년 1월 21일입니다.\n"
     ]
    }
   ],
   "source": [
    "a,b,c =  map(int,input('처음으로 사귄 연도와 월, 일을 입력하시오 :').split())\n",
    "import datetime as dt\n",
    "Firstday = dt.datetime(a,b,c)\n",
    "plusday = dt.timedelta(days=100)\n",
    "dday = Firstday+plusday\n",
    "print('100일 기념일은 : {}년 {}월 {}일입니다.'.format(dday.year,dday.month,dday.day))"
   ]
  },
  {
   "cell_type": "markdown",
   "id": "cb65f8ce",
   "metadata": {},
   "source": [
    "### LAB 7-4"
   ]
  },
  {
   "cell_type": "markdown",
   "id": "82e7c0b2",
   "metadata": {},
   "source": [
    "1. 4의 2승부터 10승까지의 값을 출력"
   ]
  },
  {
   "cell_type": "code",
   "execution_count": 65,
   "id": "10d35574",
   "metadata": {},
   "outputs": [
    {
     "name": "stdout",
     "output_type": "stream",
     "text": [
      "4** 2  =       16.0\n",
      "4** 3  =       64.0\n",
      "4** 4  =      256.0\n",
      "4** 5  =     1024.0\n",
      "4** 6  =     4096.0\n",
      "4** 7  =    16384.0\n",
      "4** 8  =    65536.0\n",
      "4** 9  =   262144.0\n",
      "4**10  =  1048576.0\n"
     ]
    }
   ],
   "source": [
    "import math as m\n",
    "for i in range (2,11):\n",
    "    print('{:<0}**{:^3} = {:>10}'.format(4,i,m.pow (4,i)))"
   ]
  },
  {
   "cell_type": "markdown",
   "id": "a3fd9243",
   "metadata": {},
   "source": [
    "2. 일반각도 0도에서 180도를 10도 단위로 출력하라. 이때 이 일반각도에 대응되는 라디안 각도 값을 함께 출력하라."
   ]
  },
  {
   "cell_type": "code",
   "execution_count": 75,
   "id": "997079dc",
   "metadata": {},
   "outputs": [
    {
     "name": "stdout",
     "output_type": "stream",
     "text": [
      "  0 degree = 0.000 radian\n",
      " 10 degree = 0.175 radian\n",
      " 20 degree = 0.349 radian\n",
      " 30 degree = 0.524 radian\n",
      " 40 degree = 0.698 radian\n",
      " 50 degree = 0.873 radian\n",
      " 60 degree = 1.047 radian\n",
      " 70 degree = 1.222 radian\n",
      " 80 degree = 1.396 radian\n",
      " 90 degree = 1.571 radian\n",
      "100 degree = 1.745 radian\n",
      "110 degree = 1.920 radian\n",
      "120 degree = 2.094 radian\n",
      "130 degree = 2.269 radian\n",
      "140 degree = 2.443 radian\n",
      "150 degree = 2.618 radian\n",
      "160 degree = 2.793 radian\n",
      "170 degree = 2.967 radian\n",
      "180 degree = 3.142 radian\n"
     ]
    }
   ],
   "source": [
    "import math as m\n",
    "for i in range (0, 190, 10):\n",
    "    print('{:>3} degree = {:.3f} radian'.format(i,m.radians(i)))\n"
   ]
  },
  {
   "cell_type": "code",
   "execution_count": null,
   "id": "3ce92022",
   "metadata": {},
   "outputs": [],
   "source": []
  }
 ],
 "metadata": {
  "kernelspec": {
   "display_name": "Python 3 (ipykernel)",
   "language": "python",
   "name": "python3"
  },
  "language_info": {
   "codemirror_mode": {
    "name": "ipython",
    "version": 3
   },
   "file_extension": ".py",
   "mimetype": "text/x-python",
   "name": "python",
   "nbconvert_exporter": "python",
   "pygments_lexer": "ipython3",
   "version": "3.9.12"
  }
 },
 "nbformat": 4,
 "nbformat_minor": 5
}
