{
 "cells": [
  {
   "cell_type": "markdown",
   "id": "05ece98a",
   "metadata": {},
   "source": [
    "# 예제 2번"
   ]
  },
  {
   "cell_type": "code",
   "execution_count": 7,
   "id": "98269277",
   "metadata": {},
   "outputs": [
    {
     "name": "stdout",
     "output_type": "stream",
     "text": [
      "점과 좌표 x, y를 입력하시오 :2 4\n",
      "1사분면에 있음\n"
     ]
    }
   ],
   "source": [
    "a,b = map(int, input('점과 좌표 x, y를 입력하시오 :').split())\n",
    "if a>0 and b>0:\n",
    "    print('1사분면에 있음')\n",
    "elif a<0 and b>0:\n",
    "    print('2사분면에 있음')\n",
    "elif a<0 and b<0:\n",
    "    print('3사분면에 있음')\n",
    "else:\n",
    "    print('4사분면에 있음')"
   ]
  },
  {
   "cell_type": "code",
   "execution_count": 8,
   "id": "ed19c90b",
   "metadata": {},
   "outputs": [
    {
     "name": "stdout",
     "output_type": "stream",
     "text": [
      "점과 좌표 x, y를 입력하시오 :-2 -4\n",
      "3사분면에 있음\n"
     ]
    }
   ],
   "source": [
    "a,b = map(int, input('점과 좌표 x, y를 입력하시오 :').split())\n",
    "if a>0 and b>0:\n",
    "    print('1사분면에 있음')\n",
    "elif a<0 and b>0:\n",
    "    print('2사분면에 있음')\n",
    "elif a<0 and b<0:\n",
    "    print('3사분면에 있음')\n",
    "else:\n",
    "    print('4사분면에 있음')"
   ]
  },
  {
   "cell_type": "code",
   "execution_count": null,
   "id": "3914f9e3",
   "metadata": {},
   "outputs": [],
   "source": []
  }
 ],
 "metadata": {
  "kernelspec": {
   "display_name": "Python 3 (ipykernel)",
   "language": "python",
   "name": "python3"
  },
  "language_info": {
   "codemirror_mode": {
    "name": "ipython",
    "version": 3
   },
   "file_extension": ".py",
   "mimetype": "text/x-python",
   "name": "python",
   "nbconvert_exporter": "python",
   "pygments_lexer": "ipython3",
   "version": "3.9.12"
  }
 },
 "nbformat": 4,
 "nbformat_minor": 5
}
