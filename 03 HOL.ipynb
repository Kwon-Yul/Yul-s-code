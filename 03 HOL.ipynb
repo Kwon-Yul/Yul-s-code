{
 "cells": [
  {
   "cell_type": "markdown",
   "id": "58c0f941",
   "metadata": {},
   "source": [
    "# 03장 HOL"
   ]
  },
  {
   "cell_type": "markdown",
   "id": "d2f6d982",
   "metadata": {},
   "source": [
    "### Q1"
   ]
  },
  {
   "cell_type": "code",
   "execution_count": 3,
   "id": "dfa05cee",
   "metadata": {},
   "outputs": [
    {
     "name": "stdout",
     "output_type": "stream",
     "text": [
      "shirt\n"
     ]
    }
   ],
   "source": [
    "a = \"Life is too short, you need python\"\n",
    "\n",
    "if \"wife\" in a: print(\"wife\")\n",
    "elif \"python\" in a and \"you\" not in a: print(\"python\")\n",
    "elif \"shirt\" not in a: print(\"shirt\")\n",
    "elif \"need\" in a: print(\"need\")\n",
    "else: print(\"none\")"
   ]
  },
  {
   "cell_type": "markdown",
   "id": "952be8ab",
   "metadata": {},
   "source": [
    "### Q2"
   ]
  },
  {
   "cell_type": "code",
   "execution_count": 5,
   "id": "21a01c37",
   "metadata": {},
   "outputs": [
    {
     "name": "stdout",
     "output_type": "stream",
     "text": [
      "166833\n"
     ]
    }
   ],
   "source": [
    "result = 0\n",
    "i = 1\n",
    "while i <= 1000:\n",
    "    if i%3==0:\n",
    "        result += i\n",
    "    i+=1\n",
    "    \n",
    "print(result)\n",
    "    "
   ]
  },
  {
   "cell_type": "markdown",
   "id": "12383dbf",
   "metadata": {},
   "source": [
    "### Q3"
   ]
  },
  {
   "cell_type": "code",
   "execution_count": 6,
   "id": "ce6cfa1c",
   "metadata": {},
   "outputs": [
    {
     "name": "stdout",
     "output_type": "stream",
     "text": [
      "*\n",
      "**\n",
      "***\n",
      "****\n",
      "*****\n"
     ]
    }
   ],
   "source": [
    "i = 0\n",
    "while True:\n",
    "    i += 1\n",
    "    if i>5: break\n",
    "    print('*'*i)"
   ]
  },
  {
   "cell_type": "markdown",
   "id": "00488856",
   "metadata": {},
   "source": [
    "### Q4"
   ]
  },
  {
   "cell_type": "code",
   "execution_count": 7,
   "id": "35613e67",
   "metadata": {},
   "outputs": [
    {
     "name": "stdout",
     "output_type": "stream",
     "text": [
      "1\n",
      "2\n",
      "3\n",
      "4\n",
      "5\n",
      "6\n",
      "7\n",
      "8\n",
      "9\n",
      "10\n",
      "11\n",
      "12\n",
      "13\n",
      "14\n",
      "15\n",
      "16\n",
      "17\n",
      "18\n",
      "19\n",
      "20\n",
      "21\n",
      "22\n",
      "23\n",
      "24\n",
      "25\n",
      "26\n",
      "27\n",
      "28\n",
      "29\n",
      "30\n",
      "31\n",
      "32\n",
      "33\n",
      "34\n",
      "35\n",
      "36\n",
      "37\n",
      "38\n",
      "39\n",
      "40\n",
      "41\n",
      "42\n",
      "43\n",
      "44\n",
      "45\n",
      "46\n",
      "47\n",
      "48\n",
      "49\n",
      "50\n",
      "51\n",
      "52\n",
      "53\n",
      "54\n",
      "55\n",
      "56\n",
      "57\n",
      "58\n",
      "59\n",
      "60\n",
      "61\n",
      "62\n",
      "63\n",
      "64\n",
      "65\n",
      "66\n",
      "67\n",
      "68\n",
      "69\n",
      "70\n",
      "71\n",
      "72\n",
      "73\n",
      "74\n",
      "75\n",
      "76\n",
      "77\n",
      "78\n",
      "79\n",
      "80\n",
      "81\n",
      "82\n",
      "83\n",
      "84\n",
      "85\n",
      "86\n",
      "87\n",
      "88\n",
      "89\n",
      "90\n",
      "91\n",
      "92\n",
      "93\n",
      "94\n",
      "95\n",
      "96\n",
      "97\n",
      "98\n",
      "99\n",
      "100\n"
     ]
    }
   ],
   "source": [
    "for i in range(1,101):\n",
    "    print(i)"
   ]
  },
  {
   "cell_type": "markdown",
   "id": "3218f104",
   "metadata": {},
   "source": [
    "### Q5"
   ]
  },
  {
   "cell_type": "code",
   "execution_count": 9,
   "id": "5ebe4626",
   "metadata": {},
   "outputs": [
    {
     "name": "stdout",
     "output_type": "stream",
     "text": [
      "79.0\n"
     ]
    }
   ],
   "source": [
    "A = [70,60,55,75,95,90,80,80,85,100]\n",
    "total = 0\n",
    "\n",
    "for score in A:\n",
    "    total += score\n",
    "    \n",
    "average =  total/len(A)\n",
    "print(average)"
   ]
  },
  {
   "cell_type": "markdown",
   "id": "f251ed9a",
   "metadata": {},
   "source": [
    "### Q6"
   ]
  },
  {
   "cell_type": "code",
   "execution_count": 12,
   "id": "0f03d5fc",
   "metadata": {},
   "outputs": [
    {
     "name": "stdout",
     "output_type": "stream",
     "text": [
      "[2, 6, 10]\n"
     ]
    }
   ],
   "source": [
    "n = [1,2,3,4,5]\n",
    "\n",
    "result =[]\n",
    "for i in n:\n",
    "    if i%2 ==1:\n",
    "        result.append(i*2)\n",
    "\n",
    "print(result)\n"
   ]
  },
  {
   "cell_type": "markdown",
   "id": "9d6ae051",
   "metadata": {},
   "source": [
    "### LAB 3-1"
   ]
  },
  {
   "cell_type": "markdown",
   "id": "aa2f4ea9",
   "metadata": {},
   "source": [
    "if 문을 사용하여 게임점수에 따른 출력 다르게 작성"
   ]
  },
  {
   "cell_type": "code",
   "execution_count": 5,
   "id": "c49c90e5",
   "metadata": {},
   "outputs": [
    {
     "name": "stdout",
     "output_type": "stream",
     "text": [
      "game_score = 800\n"
     ]
    }
   ],
   "source": [
    "n = int(input('game_score = '))\n",
    "if n >= 1000:\n",
    "    print('당신은 고수입니다.')"
   ]
  },
  {
   "cell_type": "code",
   "execution_count": 6,
   "id": "496d3ad0",
   "metadata": {},
   "outputs": [
    {
     "name": "stdout",
     "output_type": "stream",
     "text": [
      "game_score = 1300\n",
      "당신은 고수입니다.\n"
     ]
    }
   ],
   "source": [
    "n = int(input('game_score = '))\n",
    "if n >= 1000:\n",
    "    print('당신은 고수입니다.')"
   ]
  },
  {
   "cell_type": "markdown",
   "id": "0c649fde",
   "metadata": {},
   "source": [
    "num_a 와 num_b에 할당된 값이 같으면 두 값이 일치한다고 출력하는 프로그램 작성."
   ]
  },
  {
   "cell_type": "code",
   "execution_count": 8,
   "id": "7392fa91",
   "metadata": {},
   "outputs": [
    {
     "name": "stdout",
     "output_type": "stream",
     "text": [
      "num_a = 100\n",
      "num_b = 200\n"
     ]
    }
   ],
   "source": [
    "a = int(input('num_a = '))\n",
    "b = int(input('num_b = '))\n",
    "\n",
    "if a == b:\n",
    "    print('두 값이 일치합니다.')"
   ]
  },
  {
   "cell_type": "code",
   "execution_count": 9,
   "id": "47778114",
   "metadata": {},
   "outputs": [
    {
     "name": "stdout",
     "output_type": "stream",
     "text": [
      "num_a = 300\n",
      "num_b = 300\n",
      "두 값이 일치합니다.\n"
     ]
    }
   ],
   "source": [
    "a = int(input('num_a = '))\n",
    "b = int(input('num_b = '))\n",
    "\n",
    "if a == b:\n",
    "    print('두 값이 일치합니다.')"
   ]
  },
  {
   "cell_type": "markdown",
   "id": "95e00bc8",
   "metadata": {},
   "source": [
    "### LAB 3-2"
   ]
  },
  {
   "cell_type": "markdown",
   "id": "7f341672",
   "metadata": {},
   "source": [
    "1과 100 사이의 임의의 정수 n을 입력받아 출력한 후, n이 짝수이면 짝수라고 출력하는 프로그램을 작성하라."
   ]
  },
  {
   "cell_type": "code",
   "execution_count": 11,
   "id": "ac122b8c",
   "metadata": {},
   "outputs": [
    {
     "name": "stdout",
     "output_type": "stream",
     "text": [
      "정수를 입력하세요 : 50\n",
      "n = 50\n",
      "50 은(는) 짝수입니다.\n"
     ]
    }
   ],
   "source": [
    "n = int(input('정수를 입력하세요 : '))\n",
    "print('n =',n)\n",
    "if n%2 == 0:\n",
    "    print(n,'은(는) 짝수입니다.')"
   ]
  },
  {
   "cell_type": "code",
   "execution_count": 12,
   "id": "ef28a729",
   "metadata": {},
   "outputs": [
    {
     "name": "stdout",
     "output_type": "stream",
     "text": [
      "정수를 입력하세요 : 75\n",
      "n = 75\n"
     ]
    }
   ],
   "source": [
    "n = int(input('정수를 입력하세요 : '))\n",
    "print('n =',n)\n",
    "if n%2 == 0:\n",
    "    print(n,'은(는) 짝수입니다.')"
   ]
  },
  {
   "cell_type": "markdown",
   "id": "f0622d51",
   "metadata": {},
   "source": [
    "자연수이면 자연수라고 출력하는 프로그램 작성"
   ]
  },
  {
   "cell_type": "code",
   "execution_count": 14,
   "id": "408d4587",
   "metadata": {},
   "outputs": [
    {
     "name": "stdout",
     "output_type": "stream",
     "text": [
      "정수를 입력하세요 : 50\n",
      "x = 50\n",
      "50 은(는) 자연수입니다.\n"
     ]
    }
   ],
   "source": [
    "x = int(input('정수를 입력하세요 : '))\n",
    "print('x =',x)\n",
    "if x>0:\n",
    "    print(x,'은(는) 자연수입니다.')"
   ]
  },
  {
   "cell_type": "code",
   "execution_count": 15,
   "id": "ccaab994",
   "metadata": {},
   "outputs": [
    {
     "name": "stdout",
     "output_type": "stream",
     "text": [
      "정수를 입력하세요 : -10\n",
      "x = -10\n"
     ]
    }
   ],
   "source": [
    "x = int(input('정수를 입력하세요 : '))\n",
    "print('x =',x)\n",
    "if x>0:\n",
    "    print(x,'은(는) 자연수입니다.')"
   ]
  },
  {
   "cell_type": "markdown",
   "id": "766d4526",
   "metadata": {},
   "source": [
    "### LAB 3-3"
   ]
  },
  {
   "cell_type": "markdown",
   "id": "44cbe159",
   "metadata": {},
   "source": [
    "if else문을 이용하여 게임점수에 따른 출력 다르게 하기."
   ]
  },
  {
   "cell_type": "code",
   "execution_count": 18,
   "id": "15089258",
   "metadata": {},
   "outputs": [
    {
     "name": "stdout",
     "output_type": "stream",
     "text": [
      "게임 점수를 입력하시오 : 800\n",
      "game_score = 800\n",
      "입문자입니다.\n"
     ]
    }
   ],
   "source": [
    "n = int(input('게임 점수를 입력하시오 : '))\n",
    "print('game_score =',n)\n",
    "if n<1000:\n",
    "    print('입문자입니다.')\n",
    "else:\n",
    "    print('고수입니다.')"
   ]
  },
  {
   "cell_type": "code",
   "execution_count": 19,
   "id": "06330441",
   "metadata": {},
   "outputs": [
    {
     "name": "stdout",
     "output_type": "stream",
     "text": [
      "게임 점수를 입력하시오 : 1300\n",
      "game_score = 1300\n",
      "고수입니다.\n"
     ]
    }
   ],
   "source": [
    "n = int(input('게임 점수를 입력하시오 : '))\n",
    "print('game_score =',n)\n",
    "if n<1000:\n",
    "    print('입문자입니다.')\n",
    "else:\n",
    "    print('고수입니다.')"
   ]
  },
  {
   "cell_type": "markdown",
   "id": "0f7eb349",
   "metadata": {},
   "source": [
    "두 정수를 입력받아 같을 경우 두 값이 일치하는지 아닌지 출력"
   ]
  },
  {
   "cell_type": "code",
   "execution_count": 20,
   "id": "7578dd8c",
   "metadata": {},
   "outputs": [
    {
     "name": "stdout",
     "output_type": "stream",
     "text": [
      "한 정수를 입력하시오 : 100\n",
      "다른 정수를 입력하시오 : 200\n",
      "두 값이 일치하지 않습니다.\n"
     ]
    }
   ],
   "source": [
    "x = int(input('한 정수를 입력하시오 : '))\n",
    "y = int(input('다른 정수를 입력하시오 : '))\n",
    "\n",
    "if x == y:\n",
    "    print('두 값이 일치합니다.')\n",
    "else:\n",
    "    print('두 값이 일치하지 않습니다.')"
   ]
  },
  {
   "cell_type": "code",
   "execution_count": 21,
   "id": "9417e2fb",
   "metadata": {},
   "outputs": [
    {
     "name": "stdout",
     "output_type": "stream",
     "text": [
      "한 정수를 입력하시오 : 300\n",
      "다른 정수를 입력하시오 : 300\n",
      "두 값이 일치합니다.\n"
     ]
    }
   ],
   "source": [
    "x = int(input('한 정수를 입력하시오 : '))\n",
    "y = int(input('다른 정수를 입력하시오 : '))\n",
    "\n",
    "if x == y:\n",
    "    print('두 값이 일치합니다.')\n",
    "else:\n",
    "    print('두 값이 일치하지 않습니다.')"
   ]
  },
  {
   "cell_type": "markdown",
   "id": "01466d8f",
   "metadata": {},
   "source": [
    "복합 조건식을 이용하여 성인인지 아닌지, 결혼을 했는지 아닌지 구별하기"
   ]
  },
  {
   "cell_type": "code",
   "execution_count": 1,
   "id": "ba42a01c",
   "metadata": {},
   "outputs": [
    {
     "name": "stdout",
     "output_type": "stream",
     "text": [
      "당신은 성인인가요?(성인이면 1, 미성년이면 0) : 0\n",
      "당신은 미성년자입니다.\n"
     ]
    }
   ],
   "source": [
    "a = int(input('당신은 성인인가요?(성인이면 1, 미성년이면 0) : '))\n",
    "\n",
    "\n",
    "if a == 1:\n",
    "    b = int(input('결혼을 하셨나요?(기혼이면 1, 미혼이면 0) : '))\n",
    "    if b == 1:\n",
    "        print('당신은 결혼한 성인입니다.')\n",
    "    if b == 0:\n",
    "        print('당신은 결혼하지 않은 성인입니다.')\n",
    "else:\n",
    "    print('당신은 미성년자입니다.')\n"
   ]
  },
  {
   "cell_type": "code",
   "execution_count": 2,
   "id": "c5242ade",
   "metadata": {},
   "outputs": [
    {
     "name": "stdout",
     "output_type": "stream",
     "text": [
      "당신은 성인인가요?(성인이면 1, 미성년이면 0) : 1\n",
      "결혼을 하셨나요?(기혼이면 1, 미혼이면 0) : 1\n",
      "당신은 결혼한 성인입니다.\n"
     ]
    }
   ],
   "source": [
    "a = int(input('당신은 성인인가요?(성인이면 1, 미성년이면 0) : '))\n",
    "\n",
    "\n",
    "if a == 1:\n",
    "    b = int(input('결혼을 하셨나요?(기혼이면 1, 미혼이면 0) : '))\n",
    "    if b == 1:\n",
    "        print('당신은 결혼한 성인입니다.')\n",
    "    if b == 0:\n",
    "        print('당신은 결혼하지 않은 성인입니다.')\n",
    "else:\n",
    "    print('당신은 미성년자입니다.')"
   ]
  },
  {
   "cell_type": "code",
   "execution_count": 3,
   "id": "2bd15147",
   "metadata": {},
   "outputs": [
    {
     "name": "stdout",
     "output_type": "stream",
     "text": [
      "당신은 성인인가요?(성인이면 1, 미성년이면 0) : 1\n",
      "결혼을 하셨나요?(기혼이면 1, 미혼이면 0) : 0\n",
      "당신은 결혼하지 않은 성인입니다.\n"
     ]
    }
   ],
   "source": [
    "a = int(input('당신은 성인인가요?(성인이면 1, 미성년이면 0) : '))\n",
    "\n",
    "\n",
    "if a == 1:\n",
    "    b = int(input('결혼을 하셨나요?(기혼이면 1, 미혼이면 0) : '))\n",
    "    if b == 1:\n",
    "        print('당신은 결혼한 성인입니다.')\n",
    "    if b == 0:\n",
    "        print('당신은 결혼하지 않은 성인입니다.')\n",
    "else:\n",
    "    print('당신은 미성년자입니다.')"
   ]
  },
  {
   "cell_type": "markdown",
   "id": "1f34f91a",
   "metadata": {},
   "source": [
    "### LAB 3-4"
   ]
  },
  {
   "cell_type": "markdown",
   "id": "dc592eec",
   "metadata": {},
   "source": [
    "and 연산자로 1과 10 사이의 값이라면 True를 출력하는 부울식을 만들기"
   ]
  },
  {
   "cell_type": "code",
   "execution_count": 5,
   "id": "4f27ff9c",
   "metadata": {},
   "outputs": [
    {
     "name": "stdout",
     "output_type": "stream",
     "text": [
      "num = 2\n",
      "True\n"
     ]
    }
   ],
   "source": [
    "num = int(input('num = '))\n",
    "print(num >=1 and num<=10)\n",
    "\n"
   ]
  },
  {
   "cell_type": "markdown",
   "id": "8a41cf49",
   "metadata": {},
   "source": [
    "age가 10과 19 사이면 청소년입니다 를 출력하는 식 작성."
   ]
  },
  {
   "cell_type": "code",
   "execution_count": 6,
   "id": "777f8f75",
   "metadata": {},
   "outputs": [
    {
     "name": "stdout",
     "output_type": "stream",
     "text": [
      "age = 9\n"
     ]
    }
   ],
   "source": [
    "age = int(input('age = '))\n",
    "if age>10 and age<19:\n",
    "    print('청소년입니다.')"
   ]
  },
  {
   "cell_type": "code",
   "execution_count": 7,
   "id": "d2ee3803",
   "metadata": {},
   "outputs": [
    {
     "name": "stdout",
     "output_type": "stream",
     "text": [
      "age = 12\n",
      "청소년입니다.\n"
     ]
    }
   ],
   "source": [
    "age = int(input('age = '))\n",
    "if age>10 and age<19:\n",
    "    print('청소년입니다.')"
   ]
  },
  {
   "cell_type": "markdown",
   "id": "e7241630",
   "metadata": {},
   "source": [
    "### LAB 3-5"
   ]
  },
  {
   "cell_type": "markdown",
   "id": "1e0007b6",
   "metadata": {},
   "source": [
    "if, elif, else 사용하기"
   ]
  },
  {
   "cell_type": "code",
   "execution_count": 10,
   "id": "745cd035",
   "metadata": {},
   "outputs": [
    {
     "name": "stdout",
     "output_type": "stream",
     "text": [
      "자동차의 속도를 입력하세요(단위 : km/h) : 13\n",
      "저속\n"
     ]
    }
   ],
   "source": [
    "speed = int(input('자동차의 속도를 입력하세요(단위 : km/h) : '))\n",
    "if speed >= 100:\n",
    "    print('고속')\n",
    "elif speed <= 60:\n",
    "    print('저속')\n",
    "else:\n",
    "    print('중속')"
   ]
  },
  {
   "cell_type": "code",
   "execution_count": 11,
   "id": "9ea890f0",
   "metadata": {},
   "outputs": [
    {
     "name": "stdout",
     "output_type": "stream",
     "text": [
      "자동차의 속도를 입력하세요(단위 : km/h) : 130\n",
      "고속\n"
     ]
    }
   ],
   "source": [
    "speed = int(input('자동차의 속도를 입력하세요(단위 : km/h) : '))\n",
    "if speed >= 100:\n",
    "    print('고속')\n",
    "elif speed <= 60:\n",
    "    print('저속')\n",
    "else:\n",
    "    print('중속')"
   ]
  },
  {
   "cell_type": "markdown",
   "id": "0c2881ed",
   "metadata": {},
   "source": [
    "### LAB 3-6"
   ]
  },
  {
   "cell_type": "code",
   "execution_count": 13,
   "id": "b56cf3cb",
   "metadata": {},
   "outputs": [
    {
     "name": "stdout",
     "output_type": "stream",
     "text": [
      "Hello, Python!\n",
      "Hello, Python!\n",
      "Hello, Python!\n",
      "Hello, Python!\n",
      "Hello, Python!\n"
     ]
    }
   ],
   "source": [
    "for i in range (5):\n",
    "    print('Hello, Python!')"
   ]
  },
  {
   "cell_type": "code",
   "execution_count": 14,
   "id": "ef4ed639",
   "metadata": {},
   "outputs": [
    {
     "name": "stdout",
     "output_type": "stream",
     "text": [
      "0\n",
      "1\n",
      "2\n",
      "3\n",
      "4\n"
     ]
    }
   ],
   "source": [
    "for i in range (5):\n",
    "    print(i)"
   ]
  },
  {
   "cell_type": "markdown",
   "id": "43125f18",
   "metadata": {},
   "source": [
    "### LAB 3-7"
   ]
  },
  {
   "cell_type": "code",
   "execution_count": 19,
   "id": "1cd64371",
   "metadata": {},
   "outputs": [
    {
     "name": "stdout",
     "output_type": "stream",
     "text": [
      "[1, 2, 3, 4, 5, 6, 7, 8, 9, 10, 11, 12, 13, 14, 15, 16, 17, 18, 19, 20, 21, 22, 23, 24, 25, 26, 27, 28, 29, 30, 31, 32, 33, 34, 35, 36, 37, 38, 39, 40, 41, 42, 43, 44, 45, 46, 47, 48, 49, 50, 51, 52, 53, 54, 55, 56, 57, 58, 59, 60, 61, 62, 63, 64, 65, 66, 67, 68, 69, 70, 71, 72, 73, 74, 75, 76, 77, 78, 79, 80, 81, 82, 83, 84, 85, 86, 87, 88, 89, 90, 91, 92, 93, 94, 95, 96, 97, 98, 99, 100]\n"
     ]
    }
   ],
   "source": [
    "num_list = []\n",
    "for i in range (0,100):\n",
    "    i = i +1 \n",
    "    num_list.append(i)\n",
    "\n",
    "print(num_list)\n"
   ]
  },
  {
   "cell_type": "code",
   "execution_count": 20,
   "id": "50afb164",
   "metadata": {},
   "outputs": [
    {
     "name": "stdout",
     "output_type": "stream",
     "text": [
      "[2, 4, 6, 8, 10, 12, 14, 16, 18, 20, 22, 24, 26, 28, 30, 32, 34, 36, 38, 40, 42, 44, 46, 48, 50, 52, 54, 56, 58, 60, 62, 64, 66, 68, 70, 72, 74, 76, 78, 80, 82, 84, 86, 88, 90, 92, 94, 96, 98, 100]\n"
     ]
    }
   ],
   "source": [
    "num_list = []\n",
    "for i in range (0,50):\n",
    "    i = i +1 \n",
    "    num_list.append(i*2)\n",
    "\n",
    "print(num_list)\n"
   ]
  },
  {
   "cell_type": "code",
   "execution_count": 21,
   "id": "a34aa605",
   "metadata": {},
   "outputs": [
    {
     "name": "stdout",
     "output_type": "stream",
     "text": [
      "[1, 3, 5, 7, 9, 11, 13, 15, 17, 19, 21, 23, 25, 27, 29, 31, 33, 35, 37, 39, 41, 43, 45, 47, 49, 51, 53, 55, 57, 59, 61, 63, 65, 67, 69, 71, 73, 75, 77, 79, 81, 83, 85, 87, 89, 91, 93, 95, 97, 99]\n"
     ]
    }
   ],
   "source": [
    "num_list = []\n",
    "for i in range (0,50):\n",
    "    i = i +1 \n",
    "    num_list.append(i*2-1)\n",
    "\n",
    "print(num_list)\n"
   ]
  },
  {
   "cell_type": "code",
   "execution_count": 27,
   "id": "c67c8a2c",
   "metadata": {},
   "outputs": [
    {
     "name": "stdout",
     "output_type": "stream",
     "text": [
      "[-1, -2, -3, -4, -5, -6, -7, -8, -9, -10, -11, -12, -13, -14, -15, -16, -17, -18, -19, -20, -21, -22, -23, -24, -25, -26, -27, -28, -29, -30, -31, -32, -33, -34, -35, -36, -37, -38, -39, -40, -41, -42, -43, -44, -45, -46, -47, -48, -49, -50, -51, -52, -53, -54, -55, -56, -57, -58, -59, -60, -61, -62, -63, -64, -65, -66, -67, -68, -69, -70, -71, -72, -73, -74, -75, -76, -77, -78, -79, -80, -81, -82, -83, -84, -85, -86, -87, -88, -89, -90, -91, -92, -93, -94, -95, -96, -97, -98, -99]\n"
     ]
    }
   ],
   "source": [
    "num_list = []\n",
    "for i in range (-98,1):\n",
    "    i = i -1 \n",
    "    num_list.append(i)\n",
    "    num_list.sort(reverse=True)\n",
    "print(num_list)\n"
   ]
  },
  {
   "cell_type": "markdown",
   "id": "a33c7701",
   "metadata": {},
   "source": [
    "### LAB 3-8"
   ]
  },
  {
   "cell_type": "markdown",
   "id": "44f56289",
   "metadata": {},
   "source": [
    "1. 누적 덧셈을 응용하여 1에서 100까지 정수의 합 구하기.\n",
    "2. 짝수의 합을 구하기\n",
    "3. 홀수의 합을 구하기"
   ]
  },
  {
   "cell_type": "code",
   "execution_count": 28,
   "id": "c547a8c0",
   "metadata": {},
   "outputs": [
    {
     "name": "stdout",
     "output_type": "stream",
     "text": [
      "1부터 100까지 자연수의 합 5050\n",
      "1부터 100까지 짝수의 합 2550\n",
      "1부터 100까지 홀수의 합 2500\n"
     ]
    }
   ],
   "source": [
    "s1=0\n",
    "s2=0\n",
    "s3=0\n",
    "for i in range (1,101):\n",
    "    s1 = s1 + i\n",
    "    \n",
    "print('1부터 100까지 자연수의 합',s1)\n",
    "\n",
    "for i in range(2,101,2):\n",
    "    s2 = s2 + i\n",
    "\n",
    "print('1부터 100까지 짝수의 합',s2)\n",
    "\n",
    "for i in range(1,100,2):\n",
    "    s3 = s3 + i\n",
    "\n",
    "print('1부터 100까지 홀수의 합',s3)\n"
   ]
  },
  {
   "cell_type": "markdown",
   "id": "dfa6f987",
   "metadata": {},
   "source": [
    "### LAB 3-9\n",
    "이중 for 루프를 이용하여 다음과 같은 패턴을 출력하여라"
   ]
  },
  {
   "cell_type": "code",
   "execution_count": 30,
   "id": "4ef43785",
   "metadata": {},
   "outputs": [
    {
     "name": "stdout",
     "output_type": "stream",
     "text": [
      "       #\n",
      "      #\n",
      "     #\n",
      "    #\n",
      "   #\n",
      "  #\n",
      " #\n"
     ]
    }
   ],
   "source": [
    "for i in range(7):\n",
    "    print(' '*(7-i)+'#')\n"
   ]
  },
  {
   "cell_type": "code",
   "execution_count": null,
   "id": "7d660b16",
   "metadata": {},
   "outputs": [],
   "source": []
  }
 ],
 "metadata": {
  "kernelspec": {
   "display_name": "Python 3 (ipykernel)",
   "language": "python",
   "name": "python3"
  },
  "language_info": {
   "codemirror_mode": {
    "name": "ipython",
    "version": 3
   },
   "file_extension": ".py",
   "mimetype": "text/x-python",
   "name": "python",
   "nbconvert_exporter": "python",
   "pygments_lexer": "ipython3",
   "version": "3.9.12"
  }
 },
 "nbformat": 4,
 "nbformat_minor": 5
}
