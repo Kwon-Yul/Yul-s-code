{
 "cells": [
  {
   "cell_type": "markdown",
   "id": "85284592",
   "metadata": {},
   "source": [
    "## 07주차 연습문제"
   ]
  },
  {
   "cell_type": "markdown",
   "id": "943affff",
   "metadata": {},
   "source": [
    "1. 주사위 게임을 만들어 로미오 또는 줄리엣의 수를 비교하여 승,패,무를 구분하라"
   ]
  },
  {
   "cell_type": "code",
   "execution_count": 7,
   "id": "7292ff16",
   "metadata": {},
   "outputs": [
    {
     "name": "stdout",
     "output_type": "stream",
     "text": [
      "로미오의 주사위 숫자는 6입니다.\n",
      "줄리엣의 주사위 숫자는 2입니다.\n",
      "로미오가 이겼습니다.\n"
     ]
    }
   ],
   "source": [
    "import random as rd\n",
    "a = rd.randrange(1,7)\n",
    "b = rd.randrange(1,7)\n",
    "\n",
    "if a>b:\n",
    "    print('로미오의 주사위 숫자는 {}입니다.'.format(a))\n",
    "    print('줄리엣의 주사위 숫자는 {}입니다.'.format(b))\n",
    "    print('로미오가 이겼습니다.')      \n",
    "elif a<b:\n",
    "    print('로미오의 주사위 숫자는 {}입니다.'.format(a))\n",
    "    print('줄리엣의 주사위 숫자는 {}입니다.'.format(b))\n",
    "    print('줄리엣이 이겼습니다.')\n",
    "else:\n",
    "    print('로미오의 주사위 숫자는 {}입니다.'.format(a))\n",
    "    print('줄리엣의 주사위 숫자는 {}입니다.'.format(b))\n",
    "    print('비겼습니다.')\n"
   ]
  },
  {
   "cell_type": "markdown",
   "id": "8a3a0636",
   "metadata": {},
   "source": [
    "2. 랜덤 숫자 마추기 게임 프로그램을 작성하고, 1에서 20까지의 숫자 x를 하나 생성시키고, 사용자는 숫자를 하나씩 입력하면서 생성된 숫자 x와 비교해 큰지 작은지 맞추기"
   ]
  },
  {
   "cell_type": "code",
   "execution_count": 8,
   "id": "9047eb12",
   "metadata": {},
   "outputs": [
    {
     "name": "stdout",
     "output_type": "stream",
     "text": [
      "1~20까지의 숫자를 입력하세요 :\n",
      "10\n",
      "10보다 큽니다.\n",
      "1~20까지의 숫자를 입력하세요 :\n",
      "15\n",
      "15보다 큽니다.\n",
      "1~20까지의 숫자를 입력하세요 :\n",
      "17\n",
      "정답입니다. 3번 만에 맞추었습니다.\n"
     ]
    }
   ],
   "source": [
    "import random as rd\n",
    "x = rd.randrange(1,21)\n",
    "for i in range(1,21):\n",
    "    print('1~20까지의 숫자를 입력하세요 :')\n",
    "    n=int(input())\n",
    "    \n",
    "    if n>x:\n",
    "        print('{}보다 작습니다.'.format(n))\n",
    "    elif n<x:\n",
    "        print('{}보다 큽니다.'.format(n))\n",
    "    else:\n",
    "        break\n",
    "    \n",
    "if n == x:\n",
    "    print('정답입니다. {}번 만에 맞추었습니다.'.format(i))\n",
    "\n"
   ]
  },
  {
   "cell_type": "markdown",
   "id": "3e104f32",
   "metadata": {},
   "source": [
    "3. 춘향이와 몽롱이의 연애 시작일로부터 기념일과 현재 경과 날짜 구하기"
   ]
  },
  {
   "cell_type": "code",
   "execution_count": 9,
   "id": "8dcc3ffc",
   "metadata": {},
   "outputs": [
    {
     "name": "stdout",
     "output_type": "stream",
     "text": [
      "오늘은 2022년 10월 14일입니다.\n",
      "춘향이와 몽룡이의 연애 시작일 : 2019년 2월 24일\n",
      "연애 시작일로부터 경과한 날짜 : 1328일\n",
      "100일 기념일 : 2019년 6월 4일\n",
      "200일 기념일 : 2019년 9월 12일\n",
      "500일 기념일 : 2020년 7월 8일\n",
      "1000일 기념일 : 2021년 11월 20일\n"
     ]
    }
   ],
   "source": [
    "import datetime as dt\n",
    "startday = dt.datetime(2019,2,24)\n",
    "today = dt.date.today()\n",
    "time = dt.datetime.now()\n",
    "lovedays = time - startday\n",
    "Dday100 = dt.timedelta(days=100)\n",
    "Dday200 = dt.timedelta(days=200)\n",
    "Dday500 = dt.timedelta(days=500)\n",
    "Dday1000 = dt.timedelta(days=1000)\n",
    "Dday1 = startday+Dday100\n",
    "Dday2 = startday+Dday200\n",
    "Dday3 = startday+Dday500\n",
    "Dday4 = startday+Dday1000\n",
    "print('오늘은 {}년 {}월 {}일입니다.'.format(today.year,today.month,today.day))\n",
    "print('춘향이와 몽룡이의 연애 시작일 : {}년 {}월 {}일'.format(startday.year,startday.month,startday.day))\n",
    "print('연애 시작일로부터 경과한 날짜 : {}일'.format(lovedays.days))\n",
    "print('100일 기념일 : {}년 {}월 {}일'.format(Dday1.year,Dday1.month,Dday1.day))\n",
    "print('200일 기념일 : {}년 {}월 {}일'.format(Dday2.year,Dday2.month,Dday2.day))\n",
    "print('500일 기념일 : {}년 {}월 {}일'.format(Dday3.year,Dday3.month,Dday3.day))\n",
    "print('1000일 기념일 : {}년 {}월 {}일'.format(Dday4.year,Dday4.month,Dday4.day))\n"
   ]
  },
  {
   "cell_type": "markdown",
   "id": "bef6ccae",
   "metadata": {},
   "source": [
    "* 이 연습문제의 문제에서, 기념일이 잘못 표기된 것 같아 2019년 2월 24일을 기준으로 하였습니다."
   ]
  },
  {
   "cell_type": "markdown",
   "id": "4e6e4d68",
   "metadata": {},
   "source": [
    "4. math 모듈을 사용하여 0에서 180도까지 10도 단위로 sin, cos, tan 값을 구하여 출력하기"
   ]
  },
  {
   "cell_type": "code",
   "execution_count": 1,
   "id": "b4fe0515",
   "metadata": {},
   "outputs": [
    {
     "name": "stdout",
     "output_type": "stream",
     "text": [
      "sin(  0) = 0.000, cos(  0) =  1.000, tan(  0) = 0.000\n",
      "sin( 10) = 0.174, cos( 10) =  0.985, tan( 10) = 0.176\n",
      "sin( 20) = 0.342, cos( 20) =  0.940, tan( 20) = 0.364\n",
      "sin( 30) = 0.500, cos( 30) =  0.866, tan( 30) = 0.577\n",
      "sin( 40) = 0.643, cos( 40) =  0.766, tan( 40) = 0.839\n",
      "sin( 50) = 0.766, cos( 50) =  0.643, tan( 50) = 1.192\n",
      "sin( 60) = 0.866, cos( 60) =  0.500, tan( 60) = 1.732\n",
      "sin( 70) = 0.940, cos( 70) =  0.342, tan( 70) = 2.747\n",
      "sin( 80) = 0.985, cos( 80) =  0.174, tan( 80) = 5.671\n",
      "sin( 90) = 1.000, cos( 90) =  0.000, tan( 90) = 16331239353195370.000\n",
      "sin(100) = 0.985, cos(100) = -0.174, tan(100) = -5.671\n",
      "sin(110) = 0.940, cos(110) = -0.342, tan(110) = -2.747\n",
      "sin(120) = 0.866, cos(120) = -0.500, tan(120) = -1.732\n",
      "sin(130) = 0.766, cos(130) = -0.643, tan(130) = -1.192\n",
      "sin(140) = 0.643, cos(140) = -0.766, tan(140) = -0.839\n",
      "sin(150) = 0.500, cos(150) = -0.866, tan(150) = -0.577\n",
      "sin(160) = 0.342, cos(160) = -0.940, tan(160) = -0.364\n",
      "sin(170) = 0.174, cos(170) = -0.985, tan(170) = -0.176\n",
      "sin(180) = 0.000, cos(180) = -1.000, tan(180) = -0.000\n"
     ]
    }
   ],
   "source": [
    "import math as m\n",
    "for i in range (0,181,10):\n",
    "    a = m.radians(i)\n",
    "    print('sin({:>3}) = {:>3.3f}, cos({:>3}) = {:>6.3f}, tan({:>3}) = {:>3.3f}'.format(i,m.sin(a),i,m.cos(a),i,m.tan(a)))\n"
   ]
  },
  {
   "cell_type": "markdown",
   "id": "1eb74866",
   "metadata": {},
   "source": [
    "5. "
   ]
  }
 ],
 "metadata": {
  "kernelspec": {
   "display_name": "Python 3 (ipykernel)",
   "language": "python",
   "name": "python3"
  },
  "language_info": {
   "codemirror_mode": {
    "name": "ipython",
    "version": 3
   },
   "file_extension": ".py",
   "mimetype": "text/x-python",
   "name": "python",
   "nbconvert_exporter": "python",
   "pygments_lexer": "ipython3",
   "version": "3.9.12"
  }
 },
 "nbformat": 4,
 "nbformat_minor": 5
}
