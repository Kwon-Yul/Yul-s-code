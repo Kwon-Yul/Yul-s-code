{
 "cells": [
  {
   "cell_type": "markdown",
   "id": "643b47fb",
   "metadata": {},
   "source": [
    "# 예제 4"
   ]
  },
  {
   "cell_type": "markdown",
   "id": "d1ff21dc",
   "metadata": {},
   "source": [
    "## 1)"
   ]
  },
  {
   "cell_type": "markdown",
   "id": "70d96099",
   "metadata": {},
   "source": [
    "먼저 예측으로는  \n",
    "Python  \n",
    "is  \n",
    "fun  \n",
    "이 세번 연속하여 총 9줄로 나올 것으로 예상하였습니다."
   ]
  },
  {
   "cell_type": "code",
   "execution_count": 3,
   "id": "83bda447",
   "metadata": {},
   "outputs": [
    {
     "name": "stdout",
     "output_type": "stream",
     "text": [
      "Python\n",
      "is\n",
      "fun\n",
      "Python\n",
      "is\n",
      "fun\n",
      "Python\n",
      "is\n",
      "fun\n"
     ]
    }
   ],
   "source": [
    "for i in range(3):\n",
    "    print('Python')\n",
    "    print('is')\n",
    "    print('fun')"
   ]
  },
  {
   "cell_type": "markdown",
   "id": "6d22103d",
   "metadata": {},
   "source": [
    "예측 대로 나온 것을 확인할 수 있었습니다."
   ]
  },
  {
   "cell_type": "markdown",
   "id": "9e789267",
   "metadata": {},
   "source": [
    "## 2)"
   ]
  },
  {
   "cell_type": "markdown",
   "id": "d19b0eb5",
   "metadata": {},
   "source": [
    "먼저 예측으로는  \n",
    "Python  \n",
    "is  \n",
    "Python  \n",
    "is  \n",
    "Python  \n",
    "is  \n",
    "FUN  \n",
    "으로 예상하였습니다."
   ]
  },
  {
   "cell_type": "code",
   "execution_count": 5,
   "id": "3c4009ec",
   "metadata": {},
   "outputs": [
    {
     "name": "stdout",
     "output_type": "stream",
     "text": [
      "Python\n",
      "is\n",
      "Python\n",
      "is\n",
      "Python\n",
      "is\n",
      "FUN\n"
     ]
    }
   ],
   "source": [
    "for i in range(3):\n",
    "    print('Python')\n",
    "    print('is')\n",
    "print('FUN')"
   ]
  },
  {
   "cell_type": "markdown",
   "id": "145cd1b4",
   "metadata": {},
   "source": [
    "예측 대로 나온 것을 확인할 수 있었습니다."
   ]
  },
  {
   "cell_type": "code",
   "execution_count": null,
   "id": "9e3b4c81",
   "metadata": {},
   "outputs": [],
   "source": []
  }
 ],
 "metadata": {
  "kernelspec": {
   "display_name": "Python 3 (ipykernel)",
   "language": "python",
   "name": "python3"
  },
  "language_info": {
   "codemirror_mode": {
    "name": "ipython",
    "version": 3
   },
   "file_extension": ".py",
   "mimetype": "text/x-python",
   "name": "python",
   "nbconvert_exporter": "python",
   "pygments_lexer": "ipython3",
   "version": "3.9.12"
  }
 },
 "nbformat": 4,
 "nbformat_minor": 5
}
