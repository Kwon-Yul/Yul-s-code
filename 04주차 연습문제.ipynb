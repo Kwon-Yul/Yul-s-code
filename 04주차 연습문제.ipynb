{
 "cells": [
  {
   "cell_type": "markdown",
   "id": "17e96560",
   "metadata": {},
   "source": [
    "# 04주차 - 리스트 연습문제"
   ]
  },
  {
   "cell_type": "markdown",
   "id": "c57969ea",
   "metadata": {},
   "source": [
    "### 1.\t다음과 같은 list1, list2가 있을 경우 이중 for 루프를 사용하여 list1과 list2의 각 원소를 곱한 후 원소의 곱셈을 결과와 함께 출력하시오.   \n",
    "list1=[3,5,7]   \n",
    "list2=[2,3,4,5,6]"
   ]
  },
  {
   "cell_type": "code",
   "execution_count": 4,
   "id": "1509f5d6",
   "metadata": {},
   "outputs": [
    {
     "name": "stdout",
     "output_type": "stream",
     "text": [
      "3*2=6\n",
      "3*3=9\n",
      "3*4=12\n",
      "3*5=15\n",
      "3*6=18\n",
      "5*2=10\n",
      "5*3=15\n",
      "5*4=20\n",
      "5*5=25\n",
      "5*6=30\n",
      "7*2=14\n",
      "7*3=21\n",
      "7*4=28\n",
      "7*5=35\n",
      "7*6=42\n"
     ]
    }
   ],
   "source": [
    "list1 = [3,5,7]\n",
    "list2 = [2,3,4,5,6]\n",
    "for i in list1:\n",
    "    for j in list2:\n",
    "        print('{}*{}={}'.format(i,j,i*j))"
   ]
  },
  {
   "cell_type": "markdown",
   "id": "7854831a",
   "metadata": {},
   "source": [
    "### 2.\ta = [2, 3, 4, 5, 6]이 있을 경우, 이 리스트의 순서를 바꾸는 기능을 for -in 문과 pop() 메소드를 사용하여 구현하시오  (reverse() 메소드를 사용하지 않고 리스트의 원소를 하나하나 순회하면서 pop() 메소드를 호출하시오)."
   ]
  },
  {
   "cell_type": "code",
   "execution_count": 7,
   "id": "9fd2a023",
   "metadata": {},
   "outputs": [
    {
     "name": "stdout",
     "output_type": "stream",
     "text": [
      "rev_a = [6, 5, 4, 3, 2]\n"
     ]
    }
   ],
   "source": [
    "a = [2,3,4,5,6]\n",
    "rev_a=[]\n",
    "list=len(a)\n",
    "for i in range(0, list):\n",
    "    rev_a.append(a.pop())\n",
    "print('rev_a =',rev_a)"
   ]
  },
  {
   "cell_type": "markdown",
   "id": "f31a17ac",
   "metadata": {},
   "source": [
    "### 3.\tn_list라는 리스트에 [10, 20, 30, 50, 60]과 같은 5개의 원소가 있다.  내장 함수 sum(n_list)를 사용하지 않고 n_list의 5개 원소의 합을 구하는 프로그램을 작성하여라."
   ]
  },
  {
   "cell_type": "code",
   "execution_count": 16,
   "id": "bbbed73f",
   "metadata": {},
   "outputs": [
    {
     "name": "stdout",
     "output_type": "stream",
     "text": [
      "리스트 원소들 : [10, 20, 30, 50, 60]\n",
      "리스트 원소들의 합 : 170\n"
     ]
    }
   ],
   "source": [
    "n_list=[10,20,30,50,60]\n",
    "s=0\n",
    "for i in n_list:\n",
    "    s = s + i\n",
    "print('리스트 원소들 :',n_list)\n",
    "print('리스트 원소들의 합 :',s)"
   ]
  },
  {
   "cell_type": "markdown",
   "id": "120e5fde",
   "metadata": {},
   "source": [
    "### 4.\t임의의 정수 값을 가진 리스트 n_list에서 가장 큰 값을 구하는 프로그램을 max() 함수를 사용하지 말고 구현하여라."
   ]
  },
  {
   "cell_type": "code",
   "execution_count": 23,
   "id": "978a3108",
   "metadata": {},
   "outputs": [
    {
     "name": "stdout",
     "output_type": "stream",
     "text": [
      "리스트 원소들 : [10, 20, 30, 50, 60]\n",
      "리스트 원소들 중 최댓값 : 60\n"
     ]
    }
   ],
   "source": [
    "n_list=[10,20,30,50,60]\n",
    "print('리스트 원소들 :',n_list)\n",
    "n_list.sort(reverse=True)\n",
    "print('리스트 원소들 중 최댓값 :',n_list[0])"
   ]
  },
  {
   "cell_type": "markdown",
   "id": "cf7fde19",
   "metadata": {},
   "source": [
    "### 5.\t사용자로부터 5개의 수를 입력받은 후 다음과 같이 입력된 값들의 합, 평균, 최댓값, 최솟값을 출력하는 프로그램을 작성하시오.      \n",
    "### 이때 반드시 입력된 값들은 리스트에 넣어서 sum(), min(), max() 함수를 사용하도록 하시오"
   ]
  },
  {
   "cell_type": "markdown",
   "id": "8ea5fe4c",
   "metadata": {},
   "source": [
    "### - del 함수를 써서 앞에서 쓴 함수를 없애야 하는데, 적용이 어려워 따로 업로드하였습니다."
   ]
  },
  {
   "cell_type": "markdown",
   "id": "1f3d23fe",
   "metadata": {},
   "source": [
    "# 04주차 - 딕셔너리, 튜플, 집합 연습문제"
   ]
  },
  {
   "cell_type": "markdown",
   "id": "4cebf490",
   "metadata": {},
   "source": [
    "1.\t다음과 같은 파이썬 딕셔너리 구조의 프로그램을 실행할 때 알맞은 내용은 무엇인가?"
   ]
  },
  {
   "cell_type": "code",
   "execution_count": 3,
   "id": "c8c0457e",
   "metadata": {},
   "outputs": [
    {
     "data": {
      "text/plain": [
       "5000"
      ]
     },
     "execution_count": 3,
     "metadata": {},
     "output_type": "execute_result"
    }
   ],
   "source": [
    "price = {'김밥':5000,'어묵':3000,'떡볶이':2000}\n",
    "price['김밥']"
   ]
  },
  {
   "cell_type": "code",
   "execution_count": 5,
   "id": "bb6f5d39",
   "metadata": {},
   "outputs": [
    {
     "data": {
      "text/plain": [
       "{'김밥': 6000, '어묵': 3000, '떡볶이': 2000}"
      ]
     },
     "execution_count": 5,
     "metadata": {},
     "output_type": "execute_result"
    }
   ],
   "source": [
    "price['김밥']=6000\n",
    "price"
   ]
  },
  {
   "cell_type": "code",
   "execution_count": 6,
   "id": "ed7251ce",
   "metadata": {},
   "outputs": [
    {
     "data": {
      "text/plain": [
       "dict_values([6000, 3000, 2000])"
      ]
     },
     "execution_count": 6,
     "metadata": {},
     "output_type": "execute_result"
    }
   ],
   "source": [
    "price.values()"
   ]
  },
  {
   "cell_type": "code",
   "execution_count": 7,
   "id": "3d00e213",
   "metadata": {},
   "outputs": [
    {
     "data": {
      "text/plain": [
       "dict_keys(['김밥', '어묵', '떡볶이'])"
      ]
     },
     "execution_count": 7,
     "metadata": {},
     "output_type": "execute_result"
    }
   ],
   "source": [
    "price.keys()"
   ]
  },
  {
   "cell_type": "code",
   "execution_count": 11,
   "id": "ea6bbb44",
   "metadata": {},
   "outputs": [
    {
     "name": "stdout",
     "output_type": "stream",
     "text": [
      "이 식당의 메뉴 개수는 3 개 입니다.\n"
     ]
    }
   ],
   "source": [
    "print('이 식당의 메뉴 개수는',len(price),'개 입니다.')"
   ]
  },
  {
   "cell_type": "markdown",
   "id": "1a78c5ff",
   "metadata": {},
   "source": [
    "2. 1번의 딕셔녀리에 순대 : 4500 메뉴를 추가하는 코드를 넣고, 출력결과와 그 이후 코딩을 실시하시오."
   ]
  },
  {
   "cell_type": "code",
   "execution_count": 12,
   "id": "4df8ad9d",
   "metadata": {},
   "outputs": [
    {
     "data": {
      "text/plain": [
       "{'김밥': 6000, '어묵': 3000, '떡볶이': 2000, '순대': 4500}"
      ]
     },
     "execution_count": 12,
     "metadata": {},
     "output_type": "execute_result"
    }
   ],
   "source": [
    "price['순대']=4500\n",
    "price"
   ]
  },
  {
   "cell_type": "code",
   "execution_count": 13,
   "id": "42c786e4",
   "metadata": {},
   "outputs": [
    {
     "name": "stdout",
     "output_type": "stream",
     "text": [
      "순대의 가격은 4500 원 입니다.\n"
     ]
    }
   ],
   "source": [
    "print('순대의 가격은', price['순대'],'원 입니다.')"
   ]
  },
  {
   "cell_type": "code",
   "execution_count": 14,
   "id": "c03f40b8",
   "metadata": {},
   "outputs": [
    {
     "name": "stdout",
     "output_type": "stream",
     "text": [
      "이 식당의 메뉴 개수는 4 개 입니다.\n"
     ]
    }
   ],
   "source": [
    "print('이 식당의 메뉴 개수는',len(price),'개 입니다.')"
   ]
  },
  {
   "cell_type": "markdown",
   "id": "c4cb94f1",
   "metadata": {},
   "source": [
    "3. 다음 코드의 실행 결과를 적으시오."
   ]
  },
  {
   "cell_type": "code",
   "execution_count": 15,
   "id": "2a5e4f32",
   "metadata": {},
   "outputs": [
    {
     "data": {
      "text/plain": [
       "10"
      ]
     },
     "execution_count": 15,
     "metadata": {},
     "output_type": "execute_result"
    }
   ],
   "source": [
    "t = (10,20,30,40,50,60)\n",
    "t[0]"
   ]
  },
  {
   "cell_type": "code",
   "execution_count": 16,
   "id": "64852f93",
   "metadata": {},
   "outputs": [
    {
     "data": {
      "text/plain": [
       "(10, 20)"
      ]
     },
     "execution_count": 16,
     "metadata": {},
     "output_type": "execute_result"
    }
   ],
   "source": [
    "t[0:2]"
   ]
  },
  {
   "cell_type": "code",
   "execution_count": 17,
   "id": "c8c5bf12",
   "metadata": {},
   "outputs": [
    {
     "data": {
      "text/plain": [
       "(20, 30, 40, 50, 60)"
      ]
     },
     "execution_count": 17,
     "metadata": {},
     "output_type": "execute_result"
    }
   ],
   "source": [
    "t[1:]"
   ]
  },
  {
   "cell_type": "code",
   "execution_count": 18,
   "id": "227d2dce",
   "metadata": {},
   "outputs": [
    {
     "data": {
      "text/plain": [
       "(10, 20, 30)"
      ]
     },
     "execution_count": 18,
     "metadata": {},
     "output_type": "execute_result"
    }
   ],
   "source": [
    "t[:3]"
   ]
  },
  {
   "cell_type": "code",
   "execution_count": 19,
   "id": "5efdf59c",
   "metadata": {},
   "outputs": [
    {
     "data": {
      "text/plain": [
       "(20, 40, 60)"
      ]
     },
     "execution_count": 19,
     "metadata": {},
     "output_type": "execute_result"
    }
   ],
   "source": [
    "t[1::2]"
   ]
  },
  {
   "cell_type": "code",
   "execution_count": 20,
   "id": "42cafde0",
   "metadata": {},
   "outputs": [
    {
     "data": {
      "text/plain": [
       "(60, 50, 40, 30, 20, 10)"
      ]
     },
     "execution_count": 20,
     "metadata": {},
     "output_type": "execute_result"
    }
   ],
   "source": [
    "t[::-1]"
   ]
  },
  {
   "cell_type": "markdown",
   "id": "6989c786",
   "metadata": {},
   "source": [
    "4. 다음 코드의 실행 결과는 무엇인가?"
   ]
  },
  {
   "cell_type": "code",
   "execution_count": 21,
   "id": "23e0d2ac",
   "metadata": {},
   "outputs": [],
   "source": [
    "t1='a','b','c'\n",
    "t2=('a','b','c')\n",
    "t3=('d','e')"
   ]
  },
  {
   "cell_type": "code",
   "execution_count": 22,
   "id": "abd01a11",
   "metadata": {},
   "outputs": [
    {
     "data": {
      "text/plain": [
       "True"
      ]
     },
     "execution_count": 22,
     "metadata": {},
     "output_type": "execute_result"
    }
   ],
   "source": [
    "t1==t2"
   ]
  },
  {
   "cell_type": "code",
   "execution_count": 23,
   "id": "a5f35ee8",
   "metadata": {},
   "outputs": [
    {
     "data": {
      "text/plain": [
       "('a', 'b', 'c', 'd', 'e')"
      ]
     },
     "execution_count": 23,
     "metadata": {},
     "output_type": "execute_result"
    }
   ],
   "source": [
    "t2+t3"
   ]
  },
  {
   "cell_type": "code",
   "execution_count": 24,
   "id": "063055de",
   "metadata": {},
   "outputs": [],
   "source": [
    "my_list=[]\n",
    "for x in t1:\n",
    "    my_list.append(x)"
   ]
  },
  {
   "cell_type": "code",
   "execution_count": 25,
   "id": "cf747077",
   "metadata": {},
   "outputs": [
    {
     "data": {
      "text/plain": [
       "['a', 'b', 'c']"
      ]
     },
     "execution_count": 25,
     "metadata": {},
     "output_type": "execute_result"
    }
   ],
   "source": [
    "my_list"
   ]
  },
  {
   "cell_type": "code",
   "execution_count": 26,
   "id": "929bb7e4",
   "metadata": {},
   "outputs": [
    {
     "data": {
      "text/plain": [
       "['a', 'b', 'c']"
      ]
     },
     "execution_count": 26,
     "metadata": {},
     "output_type": "execute_result"
    }
   ],
   "source": [
    "[x for x in t1]"
   ]
  },
  {
   "cell_type": "code",
   "execution_count": 27,
   "id": "0b5b7456",
   "metadata": {},
   "outputs": [],
   "source": [
    "my_list=[]\n",
    "for x in t1:\n",
    "    for y in t3:\n",
    "        my_list.append(x+y)"
   ]
  },
  {
   "cell_type": "code",
   "execution_count": 28,
   "id": "43582884",
   "metadata": {},
   "outputs": [
    {
     "data": {
      "text/plain": [
       "['ad', 'ae', 'bd', 'be', 'cd', 'ce']"
      ]
     },
     "execution_count": 28,
     "metadata": {},
     "output_type": "execute_result"
    }
   ],
   "source": [
    "my_list"
   ]
  },
  {
   "cell_type": "code",
   "execution_count": 29,
   "id": "31dc1cbd",
   "metadata": {},
   "outputs": [
    {
     "data": {
      "text/plain": [
       "['ad', 'ae', 'bd', 'be', 'cd', 'ce']"
      ]
     },
     "execution_count": 29,
     "metadata": {},
     "output_type": "execute_result"
    }
   ],
   "source": [
    "[x+y for x in t1 for y in t3]"
   ]
  },
  {
   "cell_type": "code",
   "execution_count": null,
   "id": "38cd494e",
   "metadata": {},
   "outputs": [],
   "source": []
  }
 ],
 "metadata": {
  "kernelspec": {
   "display_name": "Python 3 (ipykernel)",
   "language": "python",
   "name": "python3"
  },
  "language_info": {
   "codemirror_mode": {
    "name": "ipython",
    "version": 3
   },
   "file_extension": ".py",
   "mimetype": "text/x-python",
   "name": "python",
   "nbconvert_exporter": "python",
   "pygments_lexer": "ipython3",
   "version": "3.9.12"
  }
 },
 "nbformat": 4,
 "nbformat_minor": 5
}
