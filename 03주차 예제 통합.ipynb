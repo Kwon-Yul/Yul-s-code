{
 "cells": [
  {
   "cell_type": "markdown",
   "id": "18b98ebc",
   "metadata": {},
   "source": [
    "## 예제 1번"
   ]
  },
  {
   "cell_type": "code",
   "execution_count": 1,
   "id": "eca8a3c8",
   "metadata": {},
   "outputs": [
    {
     "name": "stdout",
     "output_type": "stream",
     "text": [
      "세 정수를 입력하시오 :9 12 4\n",
      "4 9 12\n"
     ]
    }
   ],
   "source": [
    "a,b,c = map(int, input('세 정수를 입력하시오 :').split())\n",
    "if b<a and b<c:\n",
    "    a,b=b,a\n",
    "if c<b and c<a:\n",
    "    a,c=c,a\n",
    "if c<b:\n",
    "    b,c=c,b\n",
    "print(a,b,c)"
   ]
  },
  {
   "cell_type": "code",
   "execution_count": 2,
   "id": "6cac5cdb",
   "metadata": {},
   "outputs": [
    {
     "name": "stdout",
     "output_type": "stream",
     "text": [
      "세 정수를 입력하시오 :99 12 4\n",
      "4 12 99\n"
     ]
    }
   ],
   "source": [
    "a,b,c = map(int, input('세 정수를 입력하시오 :').split())\n",
    "if b<a and b<c:\n",
    "    a,b=b,a\n",
    "if c<b and c<a:\n",
    "    a,c=c,a\n",
    "if c<b:\n",
    "    b,c=c,b\n",
    "print(a,b,c)"
   ]
  },
  {
   "cell_type": "markdown",
   "id": "d1ed5d4d",
   "metadata": {},
   "source": [
    "## 예제 2번"
   ]
  },
  {
   "cell_type": "code",
   "execution_count": 3,
   "id": "abff76fc",
   "metadata": {},
   "outputs": [
    {
     "name": "stdout",
     "output_type": "stream",
     "text": [
      "점과 좌표 x, y를 입력하시오 :2 4\n",
      "1사분면에 있음\n"
     ]
    }
   ],
   "source": [
    "a,b = map(int, input('점과 좌표 x, y를 입력하시오 :').split())\n",
    "if a>0 and b>0:\n",
    "    print('1사분면에 있음')\n",
    "elif a<0 and b>0:\n",
    "    print('2사분면에 있음')\n",
    "elif a<0 and b<0:\n",
    "    print('3사분면에 있음')\n",
    "else:\n",
    "    print('4사분면에 있음')"
   ]
  },
  {
   "cell_type": "code",
   "execution_count": 4,
   "id": "f28aed66",
   "metadata": {},
   "outputs": [
    {
     "name": "stdout",
     "output_type": "stream",
     "text": [
      "점과 좌표 x, y를 입력하시오 :-2 -4\n",
      "3사분면에 있음\n"
     ]
    }
   ],
   "source": [
    "a,b = map(int, input('점과 좌표 x, y를 입력하시오 :').split())\n",
    "if a>0 and b>0:\n",
    "    print('1사분면에 있음')\n",
    "elif a<0 and b>0:\n",
    "    print('2사분면에 있음')\n",
    "elif a<0 and b<0:\n",
    "    print('3사분면에 있음')\n",
    "else:\n",
    "    print('4사분면에 있음')"
   ]
  },
  {
   "cell_type": "markdown",
   "id": "3ddcc134",
   "metadata": {},
   "source": [
    "## 예제 3번"
   ]
  },
  {
   "cell_type": "code",
   "execution_count": 5,
   "id": "f17aeb54",
   "metadata": {},
   "outputs": [
    {
     "name": "stdout",
     "output_type": "stream",
     "text": [
      "게임 점수를 입력하시오 :4222\n",
      "고수입니다\n"
     ]
    }
   ],
   "source": [
    "n=int(input('게임 점수를 입력하시오 :'))\n",
    "if n>=1000:\n",
    "            print('고수입니다')\n",
    "else:\n",
    "            print('입문자입니다.')"
   ]
  },
  {
   "cell_type": "code",
   "execution_count": 6,
   "id": "6b466c65",
   "metadata": {},
   "outputs": [
    {
     "name": "stdout",
     "output_type": "stream",
     "text": [
      "게임 점수를 입력하시오 :4\n",
      "입문자입니다.\n"
     ]
    }
   ],
   "source": [
    "n=int(input('게임 점수를 입력하시오 :'))\n",
    "if n>=1000:\n",
    "            print('고수입니다')\n",
    "else:\n",
    "            print('입문자입니다.')"
   ]
  },
  {
   "cell_type": "markdown",
   "id": "92a0e1c6",
   "metadata": {},
   "source": [
    "## 예제 4번\n",
    "### 1)\n",
    "먼저 예측으로는  \n",
    "Python  \n",
    "is  \n",
    "fun  \n",
    "이 세번 연속하여 총 9줄로 나올 것으로 예상하였습니다."
   ]
  },
  {
   "cell_type": "code",
   "execution_count": 7,
   "id": "4ea21ffb",
   "metadata": {},
   "outputs": [
    {
     "name": "stdout",
     "output_type": "stream",
     "text": [
      "Python\n",
      "is\n",
      "fun\n",
      "Python\n",
      "is\n",
      "fun\n",
      "Python\n",
      "is\n",
      "fun\n"
     ]
    }
   ],
   "source": [
    "for i in range(3):\n",
    "    print('Python')\n",
    "    print('is')\n",
    "    print('fun')"
   ]
  },
  {
   "cell_type": "markdown",
   "id": "73d8659e",
   "metadata": {},
   "source": [
    "예측 대로 나온 것을 확인할 수 있었습니다."
   ]
  },
  {
   "cell_type": "markdown",
   "id": "3e443e2c",
   "metadata": {},
   "source": [
    "### 2)\n",
    "먼저 예측으로는  \n",
    "Python  \n",
    "is  \n",
    "Python  \n",
    "is  \n",
    "Python  \n",
    "is  \n",
    "FUN  \n",
    "으로 예상하였습니다."
   ]
  },
  {
   "cell_type": "code",
   "execution_count": 8,
   "id": "e4698d2f",
   "metadata": {},
   "outputs": [
    {
     "name": "stdout",
     "output_type": "stream",
     "text": [
      "Python\n",
      "is\n",
      "Python\n",
      "is\n",
      "Python\n",
      "is\n",
      "FUN\n"
     ]
    }
   ],
   "source": [
    "for i in range(3):\n",
    "    print('Python')\n",
    "    print('is')\n",
    "print('FUN')"
   ]
  },
  {
   "cell_type": "markdown",
   "id": "229c1f5d",
   "metadata": {},
   "source": [
    "예측 대로 나온 것을 확인할 수 있었습니다."
   ]
  },
  {
   "cell_type": "markdown",
   "id": "01abc868",
   "metadata": {},
   "source": [
    "## 예제 5번"
   ]
  },
  {
   "cell_type": "code",
   "execution_count": 16,
   "id": "e113d207",
   "metadata": {},
   "outputs": [
    {
     "name": "stdout",
     "output_type": "stream",
     "text": [
      "숫자를 입력하세요 :9\n",
      "9 는 소수입니다.\n",
      "9 는 소수가 아닙니다.\n",
      "9 는 소수입니다.\n",
      "9 는 소수입니다.\n",
      "9 는 소수입니다.\n",
      "9 는 소수입니다.\n",
      "9 는 소수입니다.\n"
     ]
    }
   ],
   "source": [
    "n=int(input('숫자를 입력하세요 :'))\n",
    "for i in range(2,n):\n",
    "    if n%i==0:\n",
    "        print(n,'는 소수가 아닙니다.')\n",
    "    else:\n",
    "        print(n,'는 소수입니다.')"
   ]
  },
  {
   "cell_type": "code",
   "execution_count": null,
   "id": "53f7283f",
   "metadata": {},
   "outputs": [],
   "source": []
  }
 ],
 "metadata": {
  "kernelspec": {
   "display_name": "Python 3 (ipykernel)",
   "language": "python",
   "name": "python3"
  },
  "language_info": {
   "codemirror_mode": {
    "name": "ipython",
    "version": 3
   },
   "file_extension": ".py",
   "mimetype": "text/x-python",
   "name": "python",
   "nbconvert_exporter": "python",
   "pygments_lexer": "ipython3",
   "version": "3.9.12"
  }
 },
 "nbformat": 4,
 "nbformat_minor": 5
}
