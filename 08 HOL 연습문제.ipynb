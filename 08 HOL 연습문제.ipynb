{
 "cells": [
  {
   "cell_type": "markdown",
   "id": "0aa98456",
   "metadata": {},
   "source": [
    "# 08 HOL\n",
    "### LAB 8-1"
   ]
  },
  {
   "cell_type": "code",
   "execution_count": 1,
   "id": "de3419fd",
   "metadata": {},
   "outputs": [
    {
     "ename": "IndexError",
     "evalue": "list index out of range",
     "output_type": "error",
     "traceback": [
      "\u001b[1;31m---------------------------------------------------------------------------\u001b[0m",
      "\u001b[1;31mIndexError\u001b[0m                                Traceback (most recent call last)",
      "Input \u001b[1;32mIn [1]\u001b[0m, in \u001b[0;36m<cell line: 2>\u001b[1;34m()\u001b[0m\n\u001b[0;32m      1\u001b[0m a \u001b[38;5;241m=\u001b[39m [\u001b[38;5;241m10\u001b[39m,\u001b[38;5;241m20\u001b[39m,\u001b[38;5;241m30\u001b[39m]\n\u001b[1;32m----> 2\u001b[0m \u001b[43ma\u001b[49m\u001b[43m[\u001b[49m\u001b[38;5;241;43m3\u001b[39;49m\u001b[43m]\u001b[49m\n",
      "\u001b[1;31mIndexError\u001b[0m: list index out of range"
     ]
    }
   ],
   "source": [
    "a = [10,20,30]\n",
    "a[3]"
   ]
  },
  {
   "cell_type": "markdown",
   "id": "2c8e4d67",
   "metadata": {},
   "source": [
    "리스트 인덱스가 범위 내에 있지 않다는 오류가 나옵니다."
   ]
  },
  {
   "cell_type": "code",
   "execution_count": 2,
   "id": "4926765e",
   "metadata": {},
   "outputs": [
    {
     "name": "stdout",
     "output_type": "stream",
     "text": [
      "errpr: list index out of range\n"
     ]
    }
   ],
   "source": [
    "try:\n",
    "    a=[10,20,30]\n",
    "    a[3]\n",
    "except Exception as e:\n",
    "    print('errpr:',e)"
   ]
  },
  {
   "cell_type": "markdown",
   "id": "d4930b45",
   "metadata": {},
   "source": [
    "### LAB 8-2\n",
    "각 코드들에 대한 적절한 예외 처리문을 만들기"
   ]
  },
  {
   "cell_type": "code",
   "execution_count": 4,
   "id": "ba16a957",
   "metadata": {},
   "outputs": [
    {
     "ename": "ZeroDivisionError",
     "evalue": "division by zero",
     "output_type": "error",
     "traceback": [
      "\u001b[1;31m---------------------------------------------------------------------------\u001b[0m",
      "\u001b[1;31mZeroDivisionError\u001b[0m                         Traceback (most recent call last)",
      "Input \u001b[1;32mIn [4]\u001b[0m, in \u001b[0;36m<cell line: 1>\u001b[1;34m()\u001b[0m\n\u001b[1;32m----> 1\u001b[0m \u001b[38;5;241m10\u001b[39m\u001b[38;5;241m*\u001b[39m(\u001b[38;5;241;43m30\u001b[39;49m\u001b[38;5;241;43m/\u001b[39;49m\u001b[38;5;241;43m0\u001b[39;49m)\n",
      "\u001b[1;31mZeroDivisionError\u001b[0m: division by zero"
     ]
    }
   ],
   "source": [
    "10*(30/0)"
   ]
  },
  {
   "cell_type": "code",
   "execution_count": 1,
   "id": "0234208a",
   "metadata": {},
   "outputs": [
    {
     "name": "stdout",
     "output_type": "stream",
     "text": [
      "오류 : 0으로 나눔을 시도하였습니다.\n"
     ]
    }
   ],
   "source": [
    "try:\n",
    "    10*(30/0)\n",
    "except ZeroDivisionError:\n",
    "    print('오류 : 0으로 나눔을 시도하였습니다.')\n",
    "    "
   ]
  },
  {
   "cell_type": "code",
   "execution_count": 2,
   "id": "1ac45ed3",
   "metadata": {},
   "outputs": [
    {
     "name": "stdout",
     "output_type": "stream",
     "text": [
      "정수 x를 입력하세요 :한글\n",
      "오류 : 입력 값이 정수가 아닙니다.\n"
     ]
    }
   ],
   "source": [
    "try:\n",
    "    x = int(input('정수 x를 입력하세요 :'))\n",
    "except ValueError:\n",
    "    print('오류 : 입력 값이 정수가 아닙니다.')\n",
    "else:\n",
    "    print(x)"
   ]
  },
  {
   "cell_type": "code",
   "execution_count": 8,
   "id": "a84cb166",
   "metadata": {},
   "outputs": [
    {
     "name": "stdout",
     "output_type": "stream",
     "text": [
      "오류 :파일을 찾을 수 없습니다.\n"
     ]
    }
   ],
   "source": [
    "try:\n",
    "    import sys\n",
    "\n",
    "    r=open('myfile.txt')\n",
    "    s=r.readlile()\n",
    "except FileNotFoundError:\n",
    "    print('오류 :파일을 찾을 수 없습니다.')\n"
   ]
  },
  {
   "cell_type": "markdown",
   "id": "ad59f954",
   "metadata": {},
   "source": [
    "### LAB 8-3\n",
    "1,2,3,4,5의 요소를 가진 리스트 a, 다음과 같이 사용자로부터 정수를 입력받아 해당하는 인덱스 출력"
   ]
  },
  {
   "cell_type": "code",
   "execution_count": 9,
   "id": "070af338",
   "metadata": {},
   "outputs": [
    {
     "name": "stdout",
     "output_type": "stream",
     "text": [
      "리스트의 요소를 하나 선택하시오 :삼\n",
      "오류 : 입력 값이 정수나 실수가 아님.\n"
     ]
    }
   ],
   "source": [
    "try:\n",
    "    alist = [1,2,3,4,5]\n",
    "    a = int(input('리스트의 요소를 하나 선택하시오 :'))\n",
    "    tof = a in alist\n",
    "    if tof == True:\n",
    "        print('{} 은(는) {}번째 요소입니다. '.format(a,a))\n",
    "    else:\n",
    "        print('{} 은(는) 리스트에 포함되지 않습니다.'.format(a))\n",
    "except ValueError:\n",
    "    print('오류 : 입력 값이 정수나 실수가 아님.')\n",
    "\n",
    "        "
   ]
  },
  {
   "cell_type": "code",
   "execution_count": 10,
   "id": "f12439de",
   "metadata": {},
   "outputs": [
    {
     "name": "stdout",
     "output_type": "stream",
     "text": [
      "리스트의 요소를 하나 선택하시오 :1\n",
      "1 은(는) 1번째 요소입니다. \n"
     ]
    }
   ],
   "source": [
    "try:\n",
    "    alist = [1,2,3,4,5]\n",
    "    a = int(input('리스트의 요소를 하나 선택하시오 :'))\n",
    "    tof = a in alist\n",
    "    if tof == True:\n",
    "        print('{} 은(는) {}번째 요소입니다. '.format(a,a))\n",
    "    else:\n",
    "        print('{} 은(는) 리스트에 포함되지 않습니다.'.format(a))\n",
    "except ValueError:\n",
    "    print('오류 : 입력 값이 정수나 실수가 아님.')\n"
   ]
  },
  {
   "cell_type": "code",
   "execution_count": 11,
   "id": "50bf515c",
   "metadata": {},
   "outputs": [
    {
     "name": "stdout",
     "output_type": "stream",
     "text": [
      "리스트의 요소를 하나 선택하시오 :6\n",
      "6 은(는) 리스트에 포함되지 않습니다.\n"
     ]
    }
   ],
   "source": [
    "try:\n",
    "    alist = [1,2,3,4,5]\n",
    "    a = int(input('리스트의 요소를 하나 선택하시오 :'))\n",
    "    tof = a in alist\n",
    "    if tof == True:\n",
    "        print('{} 은(는) {}번째 요소입니다. '.format(a,a))\n",
    "    else:\n",
    "        print('{} 은(는) 리스트에 포함되지 않습니다.'.format(a))\n",
    "except ValueError:\n",
    "    print('오류 : 입력 값이 정수나 실수가 아님.')\n"
   ]
  },
  {
   "cell_type": "markdown",
   "id": "677a5760",
   "metadata": {},
   "source": [
    "### LAB 8-4"
   ]
  },
  {
   "cell_type": "markdown",
   "id": "cc9de708",
   "metadata": {},
   "source": [
    "nubers.txt파일을 write를 이용하여 줄바꿈을 하게 하자."
   ]
  },
  {
   "cell_type": "code",
   "execution_count": 2,
   "id": "274be87e",
   "metadata": {},
   "outputs": [],
   "source": [
    "numfile = open('numbers.txt','w')\n",
    "numfile.write('100\\n200\\n300\\n400')\n",
    "numfile.close()"
   ]
  },
  {
   "cell_type": "code",
   "execution_count": 9,
   "id": "03d5c5fd",
   "metadata": {},
   "outputs": [],
   "source": [
    "rock = open('we_will_rock.txt','w')\n",
    "rock.write('Budy, you\\'re a boy, make a big nise\\nPlaying in the street, gonna be a big man someday\\nYou got mud on your face, you big disgrace\\nKicking your can all over the place, singin\\'\\nWe will, We will Rock you\\nWe will, We will Rock you')\n",
    "rock.close()"
   ]
  },
  {
   "cell_type": "markdown",
   "id": "9a2bd6ca",
   "metadata": {},
   "source": [
    "### LAB 8-5"
   ]
  },
  {
   "cell_type": "code",
   "execution_count": 5,
   "id": "0124acb5",
   "metadata": {},
   "outputs": [
    {
     "name": "stdout",
     "output_type": "stream",
     "text": [
      "100\n",
      "200\n",
      "300\n",
      "400\n"
     ]
    }
   ],
   "source": [
    "numfile = open('numbers.txt','r')\n",
    "a = numfile.readline().rstrip()\n",
    "print(a)\n",
    "a = numfile.readline().rstrip()\n",
    "print(a)\n",
    "a = numfile.readline().rstrip()\n",
    "print(a)\n",
    "a = numfile.readline().rstrip()\n",
    "print(a)\n"
   ]
  },
  {
   "cell_type": "code",
   "execution_count": 10,
   "id": "17bd6673",
   "metadata": {},
   "outputs": [
    {
     "name": "stdout",
     "output_type": "stream",
     "text": [
      "Budy, you're a boy, make a big nise\n",
      "Playing in the street, gonna be a big man someday\n",
      "You got mud on your face, you big disgrace\n",
      "Kicking your can all over the place, singin'\n",
      "We will, We will Rock you\n",
      "We will, We will Rock you\n"
     ]
    }
   ],
   "source": [
    "f = open('we_will_rock.txt','r')\n",
    "a = f.readline().rstrip()\n",
    "print(a)\n",
    "a = f.readline().rstrip()\n",
    "print(a)\n",
    "a = f.readline().rstrip()\n",
    "print(a)\n",
    "a = f.readline().rstrip()\n",
    "print(a)\n",
    "a = f.readline().rstrip()\n",
    "print(a)\n",
    "a = f.readline().rstrip()\n",
    "print(a)"
   ]
  },
  {
   "cell_type": "markdown",
   "id": "f969c2f1",
   "metadata": {},
   "source": [
    "### LAB 8-6"
   ]
  },
  {
   "cell_type": "code",
   "execution_count": null,
   "id": "1300ff70",
   "metadata": {},
   "outputs": [],
   "source": []
  }
 ],
 "metadata": {
  "kernelspec": {
   "display_name": "Python 3 (ipykernel)",
   "language": "python",
   "name": "python3"
  },
  "language_info": {
   "codemirror_mode": {
    "name": "ipython",
    "version": 3
   },
   "file_extension": ".py",
   "mimetype": "text/x-python",
   "name": "python",
   "nbconvert_exporter": "python",
   "pygments_lexer": "ipython3",
   "version": "3.9.12"
  }
 },
 "nbformat": 4,
 "nbformat_minor": 5
}
