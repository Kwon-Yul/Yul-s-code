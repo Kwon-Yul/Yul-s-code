{
 "cells": [
  {
   "cell_type": "markdown",
   "id": "c625088a",
   "metadata": {},
   "source": [
    "# *예제 풀이*"
   ]
  },
  {
   "cell_type": "markdown",
   "id": "927f8583",
   "metadata": {},
   "source": [
    "## 작성자 2021112267 권 율"
   ]
  },
  {
   "cell_type": "markdown",
   "id": "a5584502",
   "metadata": {},
   "source": [
    "### 1."
   ]
  },
  {
   "cell_type": "code",
   "execution_count": 2,
   "id": "0dddb85c",
   "metadata": {},
   "outputs": [
    {
     "name": "stdout",
     "output_type": "stream",
     "text": [
      "정사각형의 밑변을 입력하시오 : 40\n",
      "정사각형의 면적 : 1600\n"
     ]
    }
   ],
   "source": [
    "n=int(input('정사각형의 밑변을 입력하시오 : '))\n",
    "print('정사각형의 면적 :', n*n)"
   ]
  },
  {
   "cell_type": "code",
   "execution_count": 3,
   "id": "4ad9f929",
   "metadata": {},
   "outputs": [
    {
     "name": "stdout",
     "output_type": "stream",
     "text": [
      "정사각형의 밑변을 입력하시오 : 60\n",
      "정사각형의 면적 : 3600\n"
     ]
    }
   ],
   "source": [
    "n=int(input('정사각형의 밑변을 입력하시오 : '))\n",
    "print('정사각형의 면적 :', n*n)"
   ]
  },
  {
   "cell_type": "markdown",
   "id": "9995132e",
   "metadata": {},
   "source": [
    "### 2."
   ]
  },
  {
   "cell_type": "code",
   "execution_count": 7,
   "id": "dbb334fa",
   "metadata": {},
   "outputs": [
    {
     "name": "stdout",
     "output_type": "stream",
     "text": [
      "섭씨온도를 입력하세요 : 30\n",
      "섭씨 30 도는 화씨 86.0 도 입니다.\n"
     ]
    }
   ],
   "source": [
    "celcius=int(input('섭씨온도를 입력하세요 : '))\n",
    "print('섭씨' ,celcius,'도는 화씨', (9/5)*celcius+32,'도 입니다.')"
   ]
  },
  {
   "cell_type": "code",
   "execution_count": 8,
   "id": "0f2145ee",
   "metadata": {},
   "outputs": [
    {
     "name": "stdout",
     "output_type": "stream",
     "text": [
      "섭씨온도를 입력하세요 : 16\n",
      "섭씨 16 도는 화씨 60.8 도 입니다.\n"
     ]
    }
   ],
   "source": [
    "celcius=int(input('섭씨온도를 입력하세요 : '))\n",
    "print('섭씨' ,celcius,'도는 화씨', (9/5)*celcius+32,'도 입니다.')"
   ]
  },
  {
   "cell_type": "markdown",
   "id": "887f4761",
   "metadata": {},
   "source": [
    "### 3."
   ]
  },
  {
   "cell_type": "code",
   "execution_count": 12,
   "id": "2e43209e",
   "metadata": {},
   "outputs": [
    {
     "name": "stdout",
     "output_type": "stream",
     "text": [
      "2 4 8 16 32 64 128 256 512 1024\n"
     ]
    }
   ],
   "source": [
    "print(2<<0,2<<1,2<<2,2<<3,2<<4,2<<5,2<<6,2<<7,2<<8,2<<9)"
   ]
  },
  {
   "cell_type": "markdown",
   "id": "6b625f85",
   "metadata": {},
   "source": [
    "### 4."
   ]
  },
  {
   "cell_type": "code",
   "execution_count": 25,
   "id": "4c1c23f0",
   "metadata": {},
   "outputs": [
    {
     "name": "stdout",
     "output_type": "stream",
     "text": [
      "정수를 입력하세요 :20\n",
      "이 수가 짝수인가요? True\n"
     ]
    }
   ],
   "source": [
    "n=int(input('정수를 입력하세요 :'))\n",
    "print('이 수가 짝수인가요?', n%2==0)\n"
   ]
  },
  {
   "cell_type": "code",
   "execution_count": 26,
   "id": "6fc29f0a",
   "metadata": {},
   "outputs": [
    {
     "name": "stdout",
     "output_type": "stream",
     "text": [
      "정수를 입력하세요 :21\n",
      "이 수가 짝수인가요? False\n"
     ]
    }
   ],
   "source": [
    "n=int(input('정수를 입력하세요 :'))\n",
    "print('이 수가 짝수인가요?', n%2==0)"
   ]
  },
  {
   "cell_type": "markdown",
   "id": "6ee5f99f",
   "metadata": {},
   "source": [
    "### 5."
   ]
  },
  {
   "cell_type": "code",
   "execution_count": 1,
   "id": "c1bbd88b",
   "metadata": {},
   "outputs": [
    {
     "name": "stdout",
     "output_type": "stream",
     "text": [
      "세 자리 정수를 입력하세요 :349\n",
      "백의 자리 : 3\n",
      "십의 자리 : 4\n",
      "일의 자리 : 9\n"
     ]
    }
   ],
   "source": [
    "n=int(input('세 자리 정수를 입력하세요 :'))\n",
    "print('백의 자리 :', n//100)\n",
    "print('십의 자리 :', (n//10)%10)\n",
    "print('일의 자리 :', n%10)"
   ]
  },
  {
   "cell_type": "code",
   "execution_count": null,
   "id": "0f03b60a",
   "metadata": {},
   "outputs": [],
   "source": []
  }
 ],
 "metadata": {
  "kernelspec": {
   "display_name": "Python 3 (ipykernel)",
   "language": "python",
   "name": "python3"
  },
  "language_info": {
   "codemirror_mode": {
    "name": "ipython",
    "version": 3
   },
   "file_extension": ".py",
   "mimetype": "text/x-python",
   "name": "python",
   "nbconvert_exporter": "python",
   "pygments_lexer": "ipython3",
   "version": "3.9.12"
  }
 },
 "nbformat": 4,
 "nbformat_minor": 5
}
