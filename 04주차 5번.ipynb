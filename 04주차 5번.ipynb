{
 "cells": [
  {
   "cell_type": "code",
   "execution_count": 4,
   "id": "0a9c2121",
   "metadata": {},
   "outputs": [
    {
     "name": "stdout",
     "output_type": "stream",
     "text": [
      "5개의 수를 입력하세요 :45 67 20 34 2\n",
      "합 : 168\n",
      "평균 : 33.6\n",
      "최댓값 : 67\n",
      "최솟값 : 2\n"
     ]
    }
   ],
   "source": [
    "n_list=list(map(int,input('5개의 수를 입력하세요 :').split()))\n",
    "print('합 :',sum(n_list))\n",
    "print('평균 :',sum(n_list)/len(n_list))\n",
    "print('최댓값 :',max(n_list))\n",
    "print('최솟값 :',min(n_list))"
   ]
  },
  {
   "cell_type": "code",
   "execution_count": null,
   "id": "d28a4406",
   "metadata": {},
   "outputs": [],
   "source": []
  }
 ],
 "metadata": {
  "kernelspec": {
   "display_name": "Python 3 (ipykernel)",
   "language": "python",
   "name": "python3"
  },
  "language_info": {
   "codemirror_mode": {
    "name": "ipython",
    "version": 3
   },
   "file_extension": ".py",
   "mimetype": "text/x-python",
   "name": "python",
   "nbconvert_exporter": "python",
   "pygments_lexer": "ipython3",
   "version": "3.9.12"
  }
 },
 "nbformat": 4,
 "nbformat_minor": 5
}
