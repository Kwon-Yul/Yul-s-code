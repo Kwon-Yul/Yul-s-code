{
 "cells": [
  {
   "cell_type": "markdown",
   "id": "d92f00af",
   "metadata": {},
   "source": [
    "# 08 HOL\n",
    "### LAB 8-1"
   ]
  },
  {
   "cell_type": "code",
   "execution_count": 1,
   "id": "de3419fd",
   "metadata": {},
   "outputs": [
    {
     "ename": "IndexError",
     "evalue": "list index out of range",
     "output_type": "error",
     "traceback": [
      "\u001b[1;31m---------------------------------------------------------------------------\u001b[0m",
      "\u001b[1;31mIndexError\u001b[0m                                Traceback (most recent call last)",
      "Input \u001b[1;32mIn [1]\u001b[0m, in \u001b[0;36m<cell line: 2>\u001b[1;34m()\u001b[0m\n\u001b[0;32m      1\u001b[0m a \u001b[38;5;241m=\u001b[39m [\u001b[38;5;241m10\u001b[39m,\u001b[38;5;241m20\u001b[39m,\u001b[38;5;241m30\u001b[39m]\n\u001b[1;32m----> 2\u001b[0m \u001b[43ma\u001b[49m\u001b[43m[\u001b[49m\u001b[38;5;241;43m3\u001b[39;49m\u001b[43m]\u001b[49m\n",
      "\u001b[1;31mIndexError\u001b[0m: list index out of range"
     ]
    }
   ],
   "source": [
    "a = [10,20,30]\n",
    "a[3]"
   ]
  },
  {
   "cell_type": "markdown",
   "id": "cf07e16b",
   "metadata": {},
   "source": [
    "리스트 인덱스가 범위 내에 있지 않다는 오류가 나옵니다."
   ]
  },
  {
   "cell_type": "code",
   "execution_count": 2,
   "id": "4926765e",
   "metadata": {},
   "outputs": [
    {
     "name": "stdout",
     "output_type": "stream",
     "text": [
      "errpr: list index out of range\n"
     ]
    }
   ],
   "source": [
    "try:\n",
    "    a=[10,20,30]\n",
    "    a[3]\n",
    "except Exception as e:\n",
    "    print('errpr:',e)"
   ]
  },
  {
   "cell_type": "markdown",
   "id": "f6fe74d3",
   "metadata": {},
   "source": [
    "### LAB 8-2\n",
    "각 코드들에 대한 적절한 예외 처리문을 만들기"
   ]
  },
  {
   "cell_type": "code",
   "execution_count": 4,
   "id": "1ba6e693",
   "metadata": {},
   "outputs": [
    {
     "ename": "ZeroDivisionError",
     "evalue": "division by zero",
     "output_type": "error",
     "traceback": [
      "\u001b[1;31m---------------------------------------------------------------------------\u001b[0m",
      "\u001b[1;31mZeroDivisionError\u001b[0m                         Traceback (most recent call last)",
      "Input \u001b[1;32mIn [4]\u001b[0m, in \u001b[0;36m<cell line: 1>\u001b[1;34m()\u001b[0m\n\u001b[1;32m----> 1\u001b[0m \u001b[38;5;241m10\u001b[39m\u001b[38;5;241m*\u001b[39m(\u001b[38;5;241;43m30\u001b[39;49m\u001b[38;5;241;43m/\u001b[39;49m\u001b[38;5;241;43m0\u001b[39;49m)\n",
      "\u001b[1;31mZeroDivisionError\u001b[0m: division by zero"
     ]
    }
   ],
   "source": [
    "10*(30/0)"
   ]
  },
  {
   "cell_type": "code",
   "execution_count": 1,
   "id": "587dfa78",
   "metadata": {},
   "outputs": [
    {
     "name": "stdout",
     "output_type": "stream",
     "text": [
      "오류 : 0으로 나눔을 시도하였습니다.\n"
     ]
    }
   ],
   "source": [
    "try:\n",
    "    10*(30/0)\n",
    "except ZeroDivisionError:\n",
    "    print('오류 : 0으로 나눔을 시도하였습니다.')\n",
    "    "
   ]
  },
  {
   "cell_type": "code",
   "execution_count": 2,
   "id": "5717fc44",
   "metadata": {},
   "outputs": [
    {
     "name": "stdout",
     "output_type": "stream",
     "text": [
      "정수 x를 입력하세요 :한글\n",
      "오류 : 입력 값이 정수가 아닙니다.\n"
     ]
    }
   ],
   "source": [
    "try:\n",
    "    x = int(input('정수 x를 입력하세요 :'))\n",
    "except ValueError:\n",
    "    print('오류 : 입력 값이 정수가 아닙니다.')\n",
    "else:\n",
    "    print(x)"
   ]
  },
  {
   "cell_type": "code",
   "execution_count": 8,
   "id": "499aabad",
   "metadata": {},
   "outputs": [
    {
     "name": "stdout",
     "output_type": "stream",
     "text": [
      "오류 :파일을 찾을 수 없습니다.\n"
     ]
    }
   ],
   "source": [
    "try:\n",
    "    import sys\n",
    "\n",
    "    r=open('myfile.txt')\n",
    "    s=r.readlile()\n",
    "except FileNotFoundError:\n",
    "    print('오류 :파일을 찾을 수 없습니다.')\n"
   ]
  },
  {
   "cell_type": "markdown",
   "id": "67043467",
   "metadata": {},
   "source": [
    "### LAB 8-3\n",
    "1,2,3,4,5의 요소를 가진 리스트 a, 다음과 같이 사용자로부터 정수를 입력받아 해당하는 인덱스 출력"
   ]
  },
  {
   "cell_type": "code",
   "execution_count": 9,
   "id": "6fb1c15d",
   "metadata": {},
   "outputs": [
    {
     "name": "stdout",
     "output_type": "stream",
     "text": [
      "리스트의 요소를 하나 선택하시오 :삼\n",
      "오류 : 입력 값이 정수나 실수가 아님.\n"
     ]
    }
   ],
   "source": [
    "try:\n",
    "    alist = [1,2,3,4,5]\n",
    "    a = int(input('리스트의 요소를 하나 선택하시오 :'))\n",
    "    tof = a in alist\n",
    "    if tof == True:\n",
    "        print('{} 은(는) {}번째 요소입니다. '.format(a,a))\n",
    "    else:\n",
    "        print('{} 은(는) 리스트에 포함되지 않습니다.'.format(a))\n",
    "except ValueError:\n",
    "    print('오류 : 입력 값이 정수나 실수가 아님.')\n",
    "\n",
    "        "
   ]
  },
  {
   "cell_type": "code",
   "execution_count": 10,
   "id": "623bb7f9",
   "metadata": {},
   "outputs": [
    {
     "name": "stdout",
     "output_type": "stream",
     "text": [
      "리스트의 요소를 하나 선택하시오 :1\n",
      "1 은(는) 1번째 요소입니다. \n"
     ]
    }
   ],
   "source": [
    "try:\n",
    "    alist = [1,2,3,4,5]\n",
    "    a = int(input('리스트의 요소를 하나 선택하시오 :'))\n",
    "    tof = a in alist\n",
    "    if tof == True:\n",
    "        print('{} 은(는) {}번째 요소입니다. '.format(a,a))\n",
    "    else:\n",
    "        print('{} 은(는) 리스트에 포함되지 않습니다.'.format(a))\n",
    "except ValueError:\n",
    "    print('오류 : 입력 값이 정수나 실수가 아님.')\n"
   ]
  },
  {
   "cell_type": "code",
   "execution_count": 11,
   "id": "f05450ad",
   "metadata": {},
   "outputs": [
    {
     "name": "stdout",
     "output_type": "stream",
     "text": [
      "리스트의 요소를 하나 선택하시오 :6\n",
      "6 은(는) 리스트에 포함되지 않습니다.\n"
     ]
    }
   ],
   "source": [
    "try:\n",
    "    alist = [1,2,3,4,5]\n",
    "    a = int(input('리스트의 요소를 하나 선택하시오 :'))\n",
    "    tof = a in alist\n",
    "    if tof == True:\n",
    "        print('{} 은(는) {}번째 요소입니다. '.format(a,a))\n",
    "    else:\n",
    "        print('{} 은(는) 리스트에 포함되지 않습니다.'.format(a))\n",
    "except ValueError:\n",
    "    print('오류 : 입력 값이 정수나 실수가 아님.')\n"
   ]
  },
  {
   "cell_type": "code",
   "execution_count": null,
   "id": "591e57ac",
   "metadata": {},
   "outputs": [],
   "source": []
  }
 ],
 "metadata": {
  "kernelspec": {
   "display_name": "Python 3 (ipykernel)",
   "language": "python",
   "name": "python3"
  },
  "language_info": {
   "codemirror_mode": {
    "name": "ipython",
    "version": 3
   },
   "file_extension": ".py",
   "mimetype": "text/x-python",
   "name": "python",
   "nbconvert_exporter": "python",
   "pygments_lexer": "ipython3",
   "version": "3.9.12"
  }
 },
 "nbformat": 4,
 "nbformat_minor": 5
}
