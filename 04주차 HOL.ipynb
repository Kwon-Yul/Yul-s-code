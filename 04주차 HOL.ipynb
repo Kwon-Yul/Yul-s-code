{
 "cells": [
  {
   "cell_type": "markdown",
   "id": "05634180",
   "metadata": {},
   "source": [
    "# 04주차 HOL"
   ]
  },
  {
   "cell_type": "markdown",
   "id": "792c822d",
   "metadata": {},
   "source": [
    "### LAB 5-1\n",
    "1. 1부터 10까지 중 짝수 리스트로 만들기\n",
    "2. range()로 풀어보기\n",
    "3. 네 원소의 리스트 출력\n",
    "4. 친구 5명의 이름 출력\n",
    "5. x,y,z 문자열로 리스트 생성"
   ]
  },
  {
   "cell_type": "code",
   "execution_count": 2,
   "id": "401733bf",
   "metadata": {},
   "outputs": [
    {
     "name": "stdout",
     "output_type": "stream",
     "text": [
      "even_list =  [2, 4, 6, 8, 10]\n"
     ]
    }
   ],
   "source": [
    "even_list = [2,4,6,8,10]\n",
    "print('even_list = ',even_list)"
   ]
  },
  {
   "cell_type": "code",
   "execution_count": 5,
   "id": "6323a76b",
   "metadata": {},
   "outputs": [
    {
     "name": "stdout",
     "output_type": "stream",
     "text": [
      "even =  [2, 4, 6, 8, 10]\n"
     ]
    }
   ],
   "source": [
    "even = []\n",
    "for i in range(2,11,2):\n",
    "    even.append(i)\n",
    "    \n",
    "print('even = ',even)"
   ]
  },
  {
   "cell_type": "code",
   "execution_count": 6,
   "id": "b31b762e",
   "metadata": {},
   "outputs": [
    {
     "name": "stdout",
     "output_type": "stream",
     "text": [
      "nation =  ['korea', 'china', 'india', 'nepal']\n"
     ]
    }
   ],
   "source": [
    "nation = ['korea','china','india','nepal']\n",
    "print('nation = ',nation)"
   ]
  },
  {
   "cell_type": "code",
   "execution_count": 7,
   "id": "292be3cb",
   "metadata": {},
   "outputs": [
    {
     "name": "stdout",
     "output_type": "stream",
     "text": [
      "friends =  ['길동', '철수', '은지', '지은', '영민']\n"
     ]
    }
   ],
   "source": [
    "friends = ['길동','철수','은지','지은','영민']\n",
    "print('friends = ',friends)"
   ]
  },
  {
   "cell_type": "code",
   "execution_count": 10,
   "id": "38f9a613",
   "metadata": {},
   "outputs": [
    {
     "name": "stdout",
     "output_type": "stream",
     "text": [
      "string =  ['X', 'Y', 'Z']\n"
     ]
    }
   ],
   "source": [
    "list1=list('XYZ')\n",
    "print('string = ',list1)"
   ]
  },
  {
   "cell_type": "markdown",
   "id": "7c74c878",
   "metadata": {},
   "source": [
    "### LAB 5-2"
   ]
  },
  {
   "cell_type": "code",
   "execution_count": null,
   "id": "b65b9ae7",
   "metadata": {},
   "outputs": [],
   "source": []
  }
 ],
 "metadata": {
  "kernelspec": {
   "display_name": "Python 3 (ipykernel)",
   "language": "python",
   "name": "python3"
  },
  "language_info": {
   "codemirror_mode": {
    "name": "ipython",
    "version": 3
   },
   "file_extension": ".py",
   "mimetype": "text/x-python",
   "name": "python",
   "nbconvert_exporter": "python",
   "pygments_lexer": "ipython3",
   "version": "3.9.12"
  }
 },
 "nbformat": 4,
 "nbformat_minor": 5
}
