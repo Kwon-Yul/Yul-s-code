{
 "cells": [
  {
   "cell_type": "markdown",
   "id": "05634180",
   "metadata": {},
   "source": [
    "# 04주차 HOL"
   ]
  },
  {
   "cell_type": "markdown",
   "id": "792c822d",
   "metadata": {},
   "source": [
    "### LAB 5-1\n",
    "1. 1부터 10까지 중 짝수 리스트로 만들기\n",
    "2. range()로 풀어보기\n",
    "3. 네 원소의 리스트 출력\n",
    "4. 친구 5명의 이름 출력\n",
    "5. x,y,z 문자열로 리스트 생성"
   ]
  },
  {
   "cell_type": "code",
   "execution_count": 2,
   "id": "401733bf",
   "metadata": {},
   "outputs": [
    {
     "name": "stdout",
     "output_type": "stream",
     "text": [
      "even_list =  [2, 4, 6, 8, 10]\n"
     ]
    }
   ],
   "source": [
    "even_list = [2,4,6,8,10]\n",
    "print('even_list = ',even_list)"
   ]
  },
  {
   "cell_type": "code",
   "execution_count": 5,
   "id": "6323a76b",
   "metadata": {},
   "outputs": [
    {
     "name": "stdout",
     "output_type": "stream",
     "text": [
      "even =  [2, 4, 6, 8, 10]\n"
     ]
    }
   ],
   "source": [
    "even = []\n",
    "for i in range(2,11,2):\n",
    "    even.append(i)\n",
    "    \n",
    "print('even = ',even)"
   ]
  },
  {
   "cell_type": "code",
   "execution_count": 6,
   "id": "b31b762e",
   "metadata": {},
   "outputs": [
    {
     "name": "stdout",
     "output_type": "stream",
     "text": [
      "nation =  ['korea', 'china', 'india', 'nepal']\n"
     ]
    }
   ],
   "source": [
    "nation = ['korea','china','india','nepal']\n",
    "print('nation = ',nation)"
   ]
  },
  {
   "cell_type": "code",
   "execution_count": 7,
   "id": "292be3cb",
   "metadata": {},
   "outputs": [
    {
     "name": "stdout",
     "output_type": "stream",
     "text": [
      "friends =  ['길동', '철수', '은지', '지은', '영민']\n"
     ]
    }
   ],
   "source": [
    "friends = ['길동','철수','은지','지은','영민']\n",
    "print('friends = ',friends)"
   ]
  },
  {
   "cell_type": "code",
   "execution_count": 10,
   "id": "38f9a613",
   "metadata": {},
   "outputs": [
    {
     "name": "stdout",
     "output_type": "stream",
     "text": [
      "string =  ['X', 'Y', 'Z']\n"
     ]
    }
   ],
   "source": [
    "list1=list('XYZ')\n",
    "print('string = ',list1)"
   ]
  },
  {
   "cell_type": "markdown",
   "id": "7c74c878",
   "metadata": {},
   "source": [
    "### LAB 5-2"
   ]
  },
  {
   "cell_type": "markdown",
   "id": "7c1ba021",
   "metadata": {},
   "source": [
    "1. 2부터 10까지의 수 중 소수의 원소를 가지는 리스트, 가장 첫 원소를 인덱싱\n",
    "2. 가장 마지막 원소를 양수 인덱싱\n",
    "3. 가장 마지막 원소를 음수 인덱싱\n",
    "4. 한국, 중국, 러시아, 말레이시아를 원소로 가지는 리스트 생성 후 첫 원소 출력\n",
    "5. 마지막 원소 음수 인덱싱\n",
    "6. 마지막 원소를 len(list)-1 인덱스를 사용하여 출력"
   ]
  },
  {
   "cell_type": "code",
   "execution_count": 4,
   "id": "545568ae",
   "metadata": {},
   "outputs": [
    {
     "name": "stdout",
     "output_type": "stream",
     "text": [
      "2\n",
      "7\n",
      "7\n"
     ]
    }
   ],
   "source": [
    "prime_list = [2,3,5,7]\n",
    "print(prime_list[0])\n",
    "print(prime_list[3])\n",
    "print(prime_list[-1])"
   ]
  },
  {
   "cell_type": "code",
   "execution_count": 8,
   "id": "c1a4c79b",
   "metadata": {},
   "outputs": [
    {
     "name": "stdout",
     "output_type": "stream",
     "text": [
      "한국\n",
      "말레이시아\n",
      "말레이시아\n"
     ]
    }
   ],
   "source": [
    "nation = ['한국','중국','러시아','말레이시아']\n",
    "print(nation[0])\n",
    "print(nation[-1])\n",
    "a = len(nation)\n",
    "print(nation[a-1])"
   ]
  },
  {
   "cell_type": "markdown",
   "id": "00826d47",
   "metadata": {},
   "source": [
    "### LAB 5-3"
   ]
  },
  {
   "cell_type": "markdown",
   "id": "1be8bb5c",
   "metadata": {},
   "source": [
    "1. append()로 추가하기\n",
    "2. remove()로 삭제하기\n",
    "3. append()로 추가하기\n",
    "4. in 연산자와 if else 로 확인하기"
   ]
  },
  {
   "cell_type": "code",
   "execution_count": 12,
   "id": "c1d3470c",
   "metadata": {},
   "outputs": [
    {
     "name": "stdout",
     "output_type": "stream",
     "text": [
      "소수 목록 :  [2, 3, 5, 7]\n",
      "추가 후 소수 목록 :  [2, 3, 5, 7, 11]\n"
     ]
    }
   ],
   "source": [
    "prime = [2,3,5,7]\n",
    "print('소수 목록 : ',prime)\n",
    "prime.append(11)\n",
    "print('추가 후 소수 목록 : ',prime)"
   ]
  },
  {
   "cell_type": "code",
   "execution_count": 13,
   "id": "cd3fcd17",
   "metadata": {},
   "outputs": [
    {
     "name": "stdout",
     "output_type": "stream",
     "text": [
      "소수 목록 :  [2, 3, 5, 7, 11]\n",
      "삭제 후 소수 목록 :  [2, 3, 5, 7]\n"
     ]
    }
   ],
   "source": [
    "prime1 = [2,3,5,7,11]\n",
    "print('소수 목록 : ',prime1)\n",
    "prime1.remove(11)\n",
    "print('삭제 후 소수 목록 : ',prime1)"
   ]
  },
  {
   "cell_type": "code",
   "execution_count": 14,
   "id": "a3cb7825",
   "metadata": {},
   "outputs": [
    {
     "name": "stdout",
     "output_type": "stream",
     "text": [
      "국가 목록 :  ['한국', '중국', '러시아', '말레이시아']\n",
      "추가 후 국가 목록 :  ['한국', '중국', '러시아', '말레이시아', '네팔']\n"
     ]
    }
   ],
   "source": [
    "nation = ['한국','중국','러시아','말레이시아']\n",
    "print('국가 목록 : ',nation)\n",
    "nation.append('네팔')\n",
    "print('추가 후 국가 목록 : ',nation)"
   ]
  },
  {
   "cell_type": "code",
   "execution_count": 27,
   "id": "4bd678d9",
   "metadata": {},
   "outputs": [
    {
     "name": "stdout",
     "output_type": "stream",
     "text": [
      "국가를 입력하세요 : 일본\n",
      "일본 는(은) 국가 목록에 없습니다.\n"
     ]
    }
   ],
   "source": [
    "nation = ['한국','중국','러시아','말레이시아','네팔']\n",
    "s = str(input('국가를 입력하세요 : '))\n",
    "tof = s in nation\n",
    "if tof == True:\n",
    "    print(s,'는(은) 국가 목록에 있습니다.')\n",
    "else:\n",
    "    print(s,'는(은) 국가 목록에 없습니다.')"
   ]
  },
  {
   "cell_type": "code",
   "execution_count": 28,
   "id": "820c6194",
   "metadata": {},
   "outputs": [
    {
     "name": "stdout",
     "output_type": "stream",
     "text": [
      "국가를 입력하세요 : 러시아\n",
      "러시아 는(은) 국가 목록에 있습니다.\n"
     ]
    }
   ],
   "source": [
    "nation = ['한국','중국','러시아','말레이시아','네팔']\n",
    "s = str(input('국가를 입력하세요 : '))\n",
    "tof = s in nation\n",
    "if tof == True:\n",
    "    print(s,'는(은) 국가 목록에 있습니다.')\n",
    "else:\n",
    "    print(s,'는(은) 국가 목록에 없습니다.')"
   ]
  },
  {
   "cell_type": "markdown",
   "id": "c68dcf6e",
   "metadata": {},
   "source": [
    "### LAB 5-4"
   ]
  },
  {
   "cell_type": "markdown",
   "id": "f23401e0",
   "metadata": {},
   "source": [
    "1. 1부터 10까지의 소수 리스트를 만들고, 최소,최대,합,평균을 구하라.\n",
    "2. 한국, 중국, 러시아, 말레이시아의 리스트를 만들고, 사전 순서로 가장 먼저 나오는 나라와 가장 뒤에 나오는 나라를 출력하시오"
   ]
  },
  {
   "cell_type": "code",
   "execution_count": 29,
   "id": "05fb9a78",
   "metadata": {},
   "outputs": [
    {
     "name": "stdout",
     "output_type": "stream",
     "text": [
      "최소 :  2\n",
      "최대 :  7\n",
      "합 :  17\n",
      "평균 :  4.25\n"
     ]
    }
   ],
   "source": [
    "prime = [2,3,5,7]\n",
    "print('최소 : ',min(prime))\n",
    "print('최대 : ',max(prime))\n",
    "print('합 : ',sum(prime))\n",
    "print('평균 : ',sum(prime)/len(prime))"
   ]
  },
  {
   "cell_type": "code",
   "execution_count": 32,
   "id": "0e2dd3ed",
   "metadata": {},
   "outputs": [
    {
     "name": "stdout",
     "output_type": "stream",
     "text": [
      "사전에 가장 먼저 나오는 나라 :  China\n",
      "사전에 가장 나중에 나오는 나라 :  Russia\n"
     ]
    }
   ],
   "source": [
    "nation = ['Korea','China','Russia','Malaysia']\n",
    "nation.sort()\n",
    "print('사전에 가장 먼저 나오는 나라 : ',nation[0])\n",
    "print('사전에 가장 나중에 나오는 나라 : ',nation[-1])\n"
   ]
  },
  {
   "cell_type": "markdown",
   "id": "3d056f2f",
   "metadata": {},
   "source": [
    "### LAB 5-5\n",
    "\n",
    "1. a 리스트가 [1,2,3] 이고, b 리스트가 [10,20,30]일 때, append와 extend의 차이점\n",
    "2. 1부터 10까지의 정수값을 원소로 가지는 리스트를 생성하고 출력\n",
    "3. insert를 이용하여 제일 앞에 0 삽입\n",
    "4. 역순으로 배열하여 출력\n",
    "5. 마지막 원소를 pop으로 반환하여 출력하고 삭제한 후의 리스트 출력"
   ]
  },
  {
   "cell_type": "code",
   "execution_count": 3,
   "id": "7dbb0165",
   "metadata": {},
   "outputs": [
    {
     "name": "stdout",
     "output_type": "stream",
     "text": [
      "[1, 2, 3, [10, 20, 30]]\n"
     ]
    }
   ],
   "source": [
    "a = [1,2,3]\n",
    "b = [10,20,30]\n",
    "a.append(b)\n",
    "print(a)"
   ]
  },
  {
   "cell_type": "code",
   "execution_count": 4,
   "id": "060665cc",
   "metadata": {},
   "outputs": [
    {
     "name": "stdout",
     "output_type": "stream",
     "text": [
      "[1, 2, 3, 10, 20, 30]\n"
     ]
    }
   ],
   "source": [
    "a = [1,2,3]\n",
    "b = [10,20,30]\n",
    "a.extend(b)\n",
    "print(a)"
   ]
  },
  {
   "cell_type": "code",
   "execution_count": 10,
   "id": "b6f9d424",
   "metadata": {},
   "outputs": [
    {
     "name": "stdout",
     "output_type": "stream",
     "text": [
      "[1, 2, 3, 4, 5, 6, 7, 8, 9, 10]\n"
     ]
    }
   ],
   "source": [
    "nlist = list(range(1,11))\n",
    "print(nlist)"
   ]
  },
  {
   "cell_type": "code",
   "execution_count": 11,
   "id": "48e88e1e",
   "metadata": {},
   "outputs": [
    {
     "name": "stdout",
     "output_type": "stream",
     "text": [
      "[0, 1, 2, 3, 4, 5, 6, 7, 8, 9, 10]\n"
     ]
    }
   ],
   "source": [
    "nlist = list(range(1,11))\n",
    "nlist.insert(0,0)\n",
    "print(nlist)"
   ]
  },
  {
   "cell_type": "code",
   "execution_count": 12,
   "id": "6f4932ac",
   "metadata": {},
   "outputs": [
    {
     "name": "stdout",
     "output_type": "stream",
     "text": [
      "[10, 9, 8, 7, 6, 5, 4, 3, 2, 1, 0]\n"
     ]
    }
   ],
   "source": [
    "nlist = list(range(1,11))\n",
    "nlist.insert(0,0)\n",
    "nlist.sort(reverse=True)\n",
    "print(nlist)"
   ]
  },
  {
   "cell_type": "code",
   "execution_count": 14,
   "id": "c106380b",
   "metadata": {},
   "outputs": [
    {
     "name": "stdout",
     "output_type": "stream",
     "text": [
      "마지막 원소 :  0\n",
      "[10, 9, 8, 7, 6, 5, 4, 3, 2, 1]\n"
     ]
    }
   ],
   "source": [
    "nlist = list(range(1,11))\n",
    "nlist.insert(0,0)\n",
    "nlist.sort(reverse=True)\n",
    "a = nlist.pop(-1)\n",
    "print('마지막 원소 : ',a)\n",
    "print(nlist)"
   ]
  },
  {
   "cell_type": "markdown",
   "id": "819c2ba2",
   "metadata": {},
   "source": [
    "### LAB 5-6\n",
    "1. 정수 n을 입력받아 [1,2,3]이라는 원소 리스트를 반복출력하라"
   ]
  },
  {
   "cell_type": "code",
   "execution_count": 15,
   "id": "097678ab",
   "metadata": {},
   "outputs": [
    {
     "name": "stdout",
     "output_type": "stream",
     "text": [
      "정수를 입력하세요 : 3\n"
     ]
    },
    {
     "data": {
      "text/plain": [
       "[1, 2, 3, 1, 2, 3, 1, 2, 3]"
      ]
     },
     "execution_count": 15,
     "metadata": {},
     "output_type": "execute_result"
    }
   ],
   "source": [
    "n = int(input('정수를 입력하세요 : '))\n",
    "nlist = [1,2,3]\n",
    "nlist * n"
   ]
  },
  {
   "cell_type": "code",
   "execution_count": 16,
   "id": "79f6c38e",
   "metadata": {},
   "outputs": [
    {
     "name": "stdout",
     "output_type": "stream",
     "text": [
      "정수를 입력하세요 : 4\n"
     ]
    },
    {
     "data": {
      "text/plain": [
       "[1, 2, 3, 1, 2, 3, 1, 2, 3, 1, 2, 3]"
      ]
     },
     "execution_count": 16,
     "metadata": {},
     "output_type": "execute_result"
    }
   ],
   "source": [
    "n = int(input('정수를 입력하세요 : '))\n",
    "nlist = [1,2,3]\n",
    "nlist * n"
   ]
  },
  {
   "cell_type": "markdown",
   "id": "3a36246b",
   "metadata": {},
   "source": [
    "### LAB 5-7\n",
    "1. range()를 사용하여 리스트 생성\n",
    "2. 문제와 같은 리스트 생성"
   ]
  },
  {
   "cell_type": "code",
   "execution_count": 18,
   "id": "baa6446b",
   "metadata": {},
   "outputs": [
    {
     "name": "stdout",
     "output_type": "stream",
     "text": [
      "[0, 1, 2, 3, 4, 5, 6, 7, 8, 9, 10, 11, 12, 13, 14]\n"
     ]
    }
   ],
   "source": [
    "n = list(range(15))\n",
    "print(n)"
   ]
  },
  {
   "cell_type": "code",
   "execution_count": 21,
   "id": "b9c0f67a",
   "metadata": {},
   "outputs": [
    {
     "data": {
      "text/plain": [
       "[0, 1, 2, 3, 4]"
      ]
     },
     "execution_count": 21,
     "metadata": {},
     "output_type": "execute_result"
    }
   ],
   "source": [
    "n = list(range(15))\n",
    "n[0:5]"
   ]
  },
  {
   "cell_type": "code",
   "execution_count": 23,
   "id": "4217a698",
   "metadata": {},
   "outputs": [
    {
     "data": {
      "text/plain": [
       "[5, 6, 7, 8, 9, 10]"
      ]
     },
     "execution_count": 23,
     "metadata": {},
     "output_type": "execute_result"
    }
   ],
   "source": [
    "n = list(range(15))\n",
    "n[5:11]"
   ]
  },
  {
   "cell_type": "code",
   "execution_count": 25,
   "id": "ea92ffa1",
   "metadata": {},
   "outputs": [
    {
     "data": {
      "text/plain": [
       "[11, 12, 13, 14]"
      ]
     },
     "execution_count": 25,
     "metadata": {},
     "output_type": "execute_result"
    }
   ],
   "source": [
    "n = list(range(15))\n",
    "n[11:]"
   ]
  },
  {
   "cell_type": "code",
   "execution_count": 26,
   "id": "8a1218eb",
   "metadata": {},
   "outputs": [
    {
     "data": {
      "text/plain": [
       "[2, 4, 6, 8, 10]"
      ]
     },
     "execution_count": 26,
     "metadata": {},
     "output_type": "execute_result"
    }
   ],
   "source": [
    "n = list(range(15))\n",
    "n[2:11:2]"
   ]
  },
  {
   "cell_type": "code",
   "execution_count": 36,
   "id": "af1249e1",
   "metadata": {},
   "outputs": [
    {
     "data": {
      "text/plain": [
       "[10, 9, 8, 7, 6]"
      ]
     },
     "execution_count": 36,
     "metadata": {},
     "output_type": "execute_result"
    }
   ],
   "source": [
    "n = list(range(15))\n",
    "n[-5:-10:-1]"
   ]
  },
  {
   "cell_type": "code",
   "execution_count": 37,
   "id": "aa87d803",
   "metadata": {},
   "outputs": [
    {
     "data": {
      "text/plain": [
       "[10, 8, 6, 4, 2]"
      ]
     },
     "execution_count": 37,
     "metadata": {},
     "output_type": "execute_result"
    }
   ],
   "source": [
    "n = list(range(15))\n",
    "n[-5:-14:-2]"
   ]
  },
  {
   "cell_type": "code",
   "execution_count": null,
   "id": "69c27566",
   "metadata": {},
   "outputs": [],
   "source": []
  }
 ],
 "metadata": {
  "kernelspec": {
   "display_name": "Python 3 (ipykernel)",
   "language": "python",
   "name": "python3"
  },
  "language_info": {
   "codemirror_mode": {
    "name": "ipython",
    "version": 3
   },
   "file_extension": ".py",
   "mimetype": "text/x-python",
   "name": "python",
   "nbconvert_exporter": "python",
   "pygments_lexer": "ipython3",
   "version": "3.9.12"
  }
 },
 "nbformat": 4,
 "nbformat_minor": 5
}
