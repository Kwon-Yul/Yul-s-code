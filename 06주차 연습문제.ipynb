{
 "cells": [
  {
   "cell_type": "markdown",
   "id": "1bd3c2ad",
   "metadata": {},
   "source": [
    "# 06주차 연습문제"
   ]
  },
  {
   "cell_type": "markdown",
   "id": "c5a4aea5",
   "metadata": {},
   "source": [
    "## 1."
   ]
  },
  {
   "cell_type": "code",
   "execution_count": 6,
   "id": "eb3aa2d4",
   "metadata": {},
   "outputs": [
    {
     "name": "stdout",
     "output_type": "stream",
     "text": [
      "정수를 여러 개 입력하시오 :3 45 32 5 7 8 4 44 5 90 17\n",
      "평균값은 :23.6\n",
      "최댓값은 : 90\n",
      "최솟값은 : 3\n"
     ]
    }
   ],
   "source": [
    "nums = list(map(int,input('정수를 여러 개 입력하시오 :').split()))\n",
    "def mean_of_n(nums):\n",
    "    print('평균값은 :{:.1f}'.format(sum(nums)/len(nums)))\n",
    "def max_of_n(nums):\n",
    "    print('최댓값은 :', max(nums))\n",
    "def min_of_n(nums):\n",
    "    print('최솟값은 :', min(nums))\n",
    "    \n",
    "mean_of_n(nums)\n",
    "max_of_n(nums)\n",
    "min_of_n(nums)"
   ]
  },
  {
   "cell_type": "markdown",
   "id": "049d1ecc",
   "metadata": {},
   "source": [
    "## 2."
   ]
  },
  {
   "cell_type": "code",
   "execution_count": 7,
   "id": "b4cfecb4",
   "metadata": {},
   "outputs": [
    {
     "name": "stdout",
     "output_type": "stream",
     "text": [
      "x1 좌표를 입력하시오 :0\n",
      "y1 좌표를 입력하시오 :0\n",
      "x2 좌표를 입력하시오 :3\n",
      "y2 좌표를 입력하시오 :4\n",
      "직각삼각형의 면적은 : 6.0\n"
     ]
    }
   ],
   "source": [
    "x1 = int(input('x1 좌표를 입력하시오 :',))\n",
    "y1 = int(input('y1 좌표를 입력하시오 :',))\n",
    "x2 = int(input('x2 좌표를 입력하시오 :',))\n",
    "y2 = int(input('y2 좌표를 입력하시오 :',))\n",
    "def area(x1,y1,x2,y2):\n",
    "    print('직각삼각형의 면적은 :', (x2-x1)*(y2-y1)*0.5)\n",
    "    \n",
    "area(x1,y1,x2,y2)"
   ]
  },
  {
   "cell_type": "markdown",
   "id": "635af36f",
   "metadata": {},
   "source": [
    "## 3."
   ]
  },
  {
   "cell_type": "code",
   "execution_count": 1,
   "id": "ee234d76",
   "metadata": {},
   "outputs": [
    {
     "name": "stdout",
     "output_type": "stream",
     "text": [
      "쉼표로 구분된 정수를 여러 개 입력하시오 :56,67,89,34,24,300,99\n",
      "입력된 정수의 리스트: [56, 67, 89, 34, 24, 300, 99]\n",
      "정렬된 정수의 리스트 : [24, 34, 56, 67, 89, 99, 300]\n"
     ]
    }
   ],
   "source": [
    "n = list(map(int,input('쉼표로 구분된 정수를 여러 개 입력하시오 :').split(',')))\n",
    "print('입력된 정수의 리스트:',n)\n",
    "def n_sort():\n",
    "    n.sort()\n",
    "    print('정렬된 정수의 리스트 :',n)\n",
    "    \n",
    "n_sort()"
   ]
  },
  {
   "cell_type": "markdown",
   "id": "c7ae5e7a",
   "metadata": {},
   "source": [
    "## 4."
   ]
  },
  {
   "cell_type": "code",
   "execution_count": 2,
   "id": "e95e0891",
   "metadata": {},
   "outputs": [
    {
     "name": "stdout",
     "output_type": "stream",
     "text": [
      "100 200\n",
      "100과 200중 큰 수는 : 200\n",
      "100과 200중 큰 수는 : 100\n"
     ]
    }
   ],
   "source": [
    "m,n=map(int,input().split())\n",
    "def max2(m,n):\n",
    "    print('{}과 {}중 큰 수는 : {}'.format(m,n,max(m,n)))\n",
    "def min2(m,n):\n",
    "    print('{}과 {}중 큰 수는 : {}'.format(m,n,min(m,n)))\n",
    "    \n",
    "max2(m,n)\n",
    "min2(m,n)"
   ]
  },
  {
   "cell_type": "markdown",
   "id": "feb52b79",
   "metadata": {},
   "source": [
    "## 5."
   ]
  },
  {
   "cell_type": "code",
   "execution_count": 3,
   "id": "3d727a4e",
   "metadata": {},
   "outputs": [
    {
     "name": "stdout",
     "output_type": "stream",
     "text": [
      "1 마일 = 1.61 킬로미터\n",
      "2 마일 = 3.22 킬로미터\n",
      "3 마일 = 4.83 킬로미터\n",
      "4 마일 = 6.44 킬로미터\n",
      "5 마일 = 8.05 킬로미터\n"
     ]
    }
   ],
   "source": [
    "def mile2km(m):\n",
    "    for m in range (1,6):\n",
    "        print('{} 마일 = {} 킬로미터'.format(m,1.61*m))\n",
    "        \n",
    "mile2km(m)"
   ]
  },
  {
   "cell_type": "code",
   "execution_count": null,
   "id": "3fe6f763",
   "metadata": {},
   "outputs": [],
   "source": []
  }
 ],
 "metadata": {
  "kernelspec": {
   "display_name": "Python 3 (ipykernel)",
   "language": "python",
   "name": "python3"
  },
  "language_info": {
   "codemirror_mode": {
    "name": "ipython",
    "version": 3
   },
   "file_extension": ".py",
   "mimetype": "text/x-python",
   "name": "python",
   "nbconvert_exporter": "python",
   "pygments_lexer": "ipython3",
   "version": "3.9.12"
  }
 },
 "nbformat": 4,
 "nbformat_minor": 5
}
